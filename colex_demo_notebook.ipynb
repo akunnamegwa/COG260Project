{
 "cells": [
  {
   "cell_type": "markdown",
   "metadata": {},
   "source": [
    "# Initial Executable Notebook for COG260 Project\n",
    "\n",
    "Data source: https://osf.io/hjvm5/\n",
    "\n",
    "Paper: https://psyarxiv.com/efs4p/"
   ]
  },
  {
   "cell_type": "code",
   "execution_count": 1,
   "metadata": {
    "ExecuteTime": {
     "end_time": "2023-12-02T06:20:18.288437Z",
     "start_time": "2023-12-02T06:20:16.678672Z"
    }
   },
   "outputs": [],
   "source": [
    "from scipy.stats import ks_2samp, mannwhitneyu, ttest_ind,  pearsonr, chi2_contingency, spearmanr\n",
    "import matplotlib.pyplot as plt\n",
    "import numpy as np\n",
    "import pandas as pd\n",
    "from itertools import product\n",
    "from mpl_toolkits.mplot3d import Axes3D\n",
    "from collections import Counter\n",
    "import statsmodels.api as sm\n",
    "\n",
    "from sklearn.model_selection import train_test_split\n",
    "from sklearn.linear_model import LogisticRegression\n",
    "from sklearn.metrics import classification_report, confusion_matrix\n",
    "# the library below is useful for estimating the progress of a for loop\n",
    "# the use of tqdm will be displayed in Demo 2\n",
    "from tqdm import tqdm\n",
    "\n",
    "pd.options.mode.chained_assignment = None"
   ]
  },
  {
   "cell_type": "markdown",
   "metadata": {},
   "source": [
    "Import relevant Python libraries."
   ]
  },
  {
   "cell_type": "code",
   "execution_count": 2,
   "metadata": {
    "ExecuteTime": {
     "start_time": "2023-12-02T04:51:39.710048200Z"
    }
   },
   "outputs": [
    {
     "name": "stderr",
     "output_type": "stream",
     "text": [
      "/var/folders/5b/_w993gdd31x1z6ctz1dyfnsm0000gp/T/ipykernel_23987/2801652837.py:1: DtypeWarning: Columns (4) have mixed types. Specify dtype option on import or set low_memory=False.\n",
      "  df = pd.read_csv(\"df_all_raw.csv\")\n"
     ]
    }
   ],
   "source": [
    "df = pd.read_csv(\"df_all_raw.csv\")\n",
    "df.columns = list(map(str.lower, df.columns))\n",
    "df = df.drop(columns=['dataset_id', 'form_id', 'form', 'gloss_in_source', 'iso639p3code', 'mrc_word', 'kucera_francis_frequency'])"
   ]
  },
  {
   "cell_type": "markdown",
   "metadata": {},
   "source": [
    "# Data Fields\n",
    "\n",
    "**clics_form**: the form of the word in the language of interest\n",
    "\n",
    "**concepticon_id**: unique numerical identifier of underlying concept\n",
    "\n",
    "**concepticon_gloss**: the concept underlying the word form\n",
    "\n",
    "**ontological_category**: broad category that the concept falls into\n",
    "\n",
    "**semantic_field**: a set of words related in meaning\n",
    "\n",
    "**variety**: the language\n",
    "\n",
    "**glottocode**: unique alphanumeric identifier for the language variety\n",
    "\n",
    "**macroarea**: the part of the world the language is common in\n",
    "\n",
    "**family**: the language family of the current variety\n",
    "\n",
    "**latitude**: rough latitude where the language variety can be found\n",
    "\n",
    "**longitude**: rough latitude where the language variety can be found\n",
    "\n",
    "**age_of_acquisition**: the age at which a concept is typically learned\n",
    "\n",
    "**concreteness**: a numerical rating of how abstract or concrete a concept is, rated from (100-700)\n",
    "\n",
    "**familiarity**: a numerical rating of how familiar a concept is to the average person, rated from (100-700)\n",
    "\n",
    "**imagability**: a numerical rating of how well an average person can mentally visualize a concept, rated from (100-700)"
   ]
  },
  {
   "cell_type": "markdown",
   "metadata": {},
   "source": [
    "# Concept categorization"
   ]
  },
  {
   "cell_type": "markdown",
   "metadata": {},
   "source": [
    "First, we will visualize some of the concepticons that we will categorize as either \"abstract\" or concrete\" in tables."
   ]
  },
  {
   "cell_type": "code",
   "execution_count": 21,
   "metadata": {
    "ExecuteTime": {
     "start_time": "2023-12-02T04:51:51.954412100Z"
    }
   },
   "outputs": [
    {
     "data": {
      "text/html": [
       "<div>\n",
       "<style scoped>\n",
       "    .dataframe tbody tr th:only-of-type {\n",
       "        vertical-align: middle;\n",
       "    }\n",
       "\n",
       "    .dataframe tbody tr th {\n",
       "        vertical-align: top;\n",
       "    }\n",
       "\n",
       "    .dataframe thead th {\n",
       "        text-align: right;\n",
       "    }\n",
       "</style>\n",
       "<table border=\"1\" class=\"dataframe\">\n",
       "  <thead>\n",
       "    <tr style=\"text-align: right;\">\n",
       "      <th></th>\n",
       "      <th>concepticon_id</th>\n",
       "      <th>concepticon_gloss</th>\n",
       "      <th>concreteness</th>\n",
       "    </tr>\n",
       "  </thead>\n",
       "  <tbody>\n",
       "    <tr>\n",
       "      <th>70619</th>\n",
       "      <td>1461</td>\n",
       "      <td>AT</td>\n",
       "      <td>194.0</td>\n",
       "    </tr>\n",
       "    <tr>\n",
       "      <th>12225</th>\n",
       "      <td>1239</td>\n",
       "      <td>HOW</td>\n",
       "      <td>195.0</td>\n",
       "    </tr>\n",
       "    <tr>\n",
       "      <th>168102</th>\n",
       "      <td>1157</td>\n",
       "      <td>BECAUSE</td>\n",
       "      <td>196.0</td>\n",
       "    </tr>\n",
       "    <tr>\n",
       "      <th>31399</th>\n",
       "      <td>693</td>\n",
       "      <td>FROM</td>\n",
       "      <td>197.0</td>\n",
       "    </tr>\n",
       "    <tr>\n",
       "      <th>31491</th>\n",
       "      <td>1459</td>\n",
       "      <td>IF</td>\n",
       "      <td>204.0</td>\n",
       "    </tr>\n",
       "    <tr>\n",
       "      <th>...</th>\n",
       "      <td>...</td>\n",
       "      <td>...</td>\n",
       "      <td>...</td>\n",
       "    </tr>\n",
       "    <tr>\n",
       "      <th>10693</th>\n",
       "      <td>956</td>\n",
       "      <td>FLEE</td>\n",
       "      <td>400.0</td>\n",
       "    </tr>\n",
       "    <tr>\n",
       "      <th>202478</th>\n",
       "      <td>1591</td>\n",
       "      <td>UP</td>\n",
       "      <td>400.0</td>\n",
       "    </tr>\n",
       "    <tr>\n",
       "      <th>6894</th>\n",
       "      <td>1593</td>\n",
       "      <td>DEEP</td>\n",
       "      <td>400.0</td>\n",
       "    </tr>\n",
       "    <tr>\n",
       "      <th>4819</th>\n",
       "      <td>1456</td>\n",
       "      <td>THROW</td>\n",
       "      <td>400.0</td>\n",
       "    </tr>\n",
       "    <tr>\n",
       "      <th>28188</th>\n",
       "      <td>2375</td>\n",
       "      <td>VERTICAL</td>\n",
       "      <td>400.0</td>\n",
       "    </tr>\n",
       "  </tbody>\n",
       "</table>\n",
       "<p>361 rows × 3 columns</p>\n",
       "</div>"
      ],
      "text/plain": [
       "        concepticon_id concepticon_gloss  concreteness\n",
       "70619             1461                AT         194.0\n",
       "12225             1239               HOW         195.0\n",
       "168102            1157           BECAUSE         196.0\n",
       "31399              693              FROM         197.0\n",
       "31491             1459                IF         204.0\n",
       "...                ...               ...           ...\n",
       "10693              956              FLEE         400.0\n",
       "202478            1591                UP         400.0\n",
       "6894              1593              DEEP         400.0\n",
       "4819              1456             THROW         400.0\n",
       "28188             2375          VERTICAL         400.0\n",
       "\n",
       "[361 rows x 3 columns]"
      ]
     },
     "execution_count": 21,
     "metadata": {},
     "output_type": "execute_result"
    }
   ],
   "source": [
    "abstract_cpts = df[df['concreteness'] <= 400]\n",
    "abstract_cpts = abstract_cpts[[\"concepticon_id\", \"concepticon_gloss\", \"concreteness\"]].drop_duplicates()\n",
    "abstract_cpts.sort_values(by=\"concreteness\")"
   ]
  },
  {
   "cell_type": "code",
   "execution_count": 4,
   "metadata": {
    "ExecuteTime": {
     "end_time": "2023-12-02T04:51:52.294036700Z",
     "start_time": "2023-12-02T04:51:52.156879Z"
    }
   },
   "outputs": [
    {
     "name": "stdout",
     "output_type": "stream",
     "text": [
      "Number of unique abstract concepts: 356\n"
     ]
    }
   ],
   "source": [
    "num_abstract = abstract_cpts['concepticon_id'].nunique()\n",
    "print(f\"Number of unique abstract concepts: {num_abstract}\")"
   ]
  },
  {
   "cell_type": "code",
   "execution_count": 20,
   "metadata": {
    "ExecuteTime": {
     "end_time": "2023-12-02T04:51:52.615826Z",
     "start_time": "2023-12-02T04:51:52.191464400Z"
    }
   },
   "outputs": [
    {
     "data": {
      "text/html": [
       "<div>\n",
       "<style scoped>\n",
       "    .dataframe tbody tr th:only-of-type {\n",
       "        vertical-align: middle;\n",
       "    }\n",
       "\n",
       "    .dataframe tbody tr th {\n",
       "        vertical-align: top;\n",
       "    }\n",
       "\n",
       "    .dataframe thead th {\n",
       "        text-align: right;\n",
       "    }\n",
       "</style>\n",
       "<table border=\"1\" class=\"dataframe\">\n",
       "  <thead>\n",
       "    <tr style=\"text-align: right;\">\n",
       "      <th></th>\n",
       "      <th>concepticon_id</th>\n",
       "      <th>concepticon_gloss</th>\n",
       "      <th>concreteness</th>\n",
       "    </tr>\n",
       "  </thead>\n",
       "  <tbody>\n",
       "    <tr>\n",
       "      <th>58494</th>\n",
       "      <td>1039</td>\n",
       "      <td>SHOW</td>\n",
       "      <td>402.0</td>\n",
       "    </tr>\n",
       "    <tr>\n",
       "      <th>2981</th>\n",
       "      <td>1246</td>\n",
       "      <td>SMALL</td>\n",
       "      <td>402.0</td>\n",
       "    </tr>\n",
       "    <tr>\n",
       "      <th>962892</th>\n",
       "      <td>2484</td>\n",
       "      <td>SMALL (NOT TALL)</td>\n",
       "      <td>402.0</td>\n",
       "    </tr>\n",
       "    <tr>\n",
       "      <th>4973</th>\n",
       "      <td>1086</td>\n",
       "      <td>WORK (ACTIVITY)</td>\n",
       "      <td>402.0</td>\n",
       "    </tr>\n",
       "    <tr>\n",
       "      <th>16616</th>\n",
       "      <td>1840</td>\n",
       "      <td>BUILD</td>\n",
       "      <td>402.0</td>\n",
       "    </tr>\n",
       "    <tr>\n",
       "      <th>...</th>\n",
       "      <td>...</td>\n",
       "      <td>...</td>\n",
       "      <td>...</td>\n",
       "    </tr>\n",
       "    <tr>\n",
       "      <th>19090</th>\n",
       "      <td>985</td>\n",
       "      <td>VINEGAR</td>\n",
       "      <td>645.0</td>\n",
       "    </tr>\n",
       "    <tr>\n",
       "      <th>8316</th>\n",
       "      <td>496</td>\n",
       "      <td>CUCUMBER</td>\n",
       "      <td>653.0</td>\n",
       "    </tr>\n",
       "    <tr>\n",
       "      <th>42870</th>\n",
       "      <td>607</td>\n",
       "      <td>GRASSHOPPER</td>\n",
       "      <td>660.0</td>\n",
       "    </tr>\n",
       "    <tr>\n",
       "      <th>18288</th>\n",
       "      <td>986</td>\n",
       "      <td>TOMATO</td>\n",
       "      <td>662.0</td>\n",
       "    </tr>\n",
       "    <tr>\n",
       "      <th>1002</th>\n",
       "      <td>635</td>\n",
       "      <td>MILK</td>\n",
       "      <td>670.0</td>\n",
       "    </tr>\n",
       "  </tbody>\n",
       "</table>\n",
       "<p>841 rows × 3 columns</p>\n",
       "</div>"
      ],
      "text/plain": [
       "        concepticon_id concepticon_gloss  concreteness\n",
       "58494             1039              SHOW         402.0\n",
       "2981              1246             SMALL         402.0\n",
       "962892            2484  SMALL (NOT TALL)         402.0\n",
       "4973              1086   WORK (ACTIVITY)         402.0\n",
       "16616             1840             BUILD         402.0\n",
       "...                ...               ...           ...\n",
       "19090              985           VINEGAR         645.0\n",
       "8316               496          CUCUMBER         653.0\n",
       "42870              607       GRASSHOPPER         660.0\n",
       "18288              986            TOMATO         662.0\n",
       "1002               635              MILK         670.0\n",
       "\n",
       "[841 rows x 3 columns]"
      ]
     },
     "execution_count": 20,
     "metadata": {},
     "output_type": "execute_result"
    }
   ],
   "source": [
    "concrete_cpts = df[df['concreteness'] > 400]\n",
    "concrete_cpts = concrete_cpts[[\"concepticon_id\", \"concepticon_gloss\", \"concreteness\"]].drop_duplicates()\n",
    "concrete_cpts.sort_values(by=\"concreteness\")"
   ]
  },
  {
   "cell_type": "code",
   "execution_count": 6,
   "metadata": {
    "ExecuteTime": {
     "end_time": "2023-12-02T04:51:52.704376Z",
     "start_time": "2023-12-02T04:51:52.564234800Z"
    }
   },
   "outputs": [
    {
     "name": "stdout",
     "output_type": "stream",
     "text": [
      "Number of unique abstract concepts: 846\n"
     ]
    }
   ],
   "source": [
    "num_concrete = concrete_cpts['concepticon_id'].nunique()\n",
    "print(f\"Number of unique abstract concepts: {num_concrete}\")"
   ]
  },
  {
   "cell_type": "markdown",
   "metadata": {},
   "source": [
    "To simplify the process of analysis later, we will create a dictionary that maps concepticon_id to a boolean representing whether or not the concepticon is abstract"
   ]
  },
  {
   "cell_type": "code",
   "execution_count": 7,
   "metadata": {
    "ExecuteTime": {
     "end_time": "2023-12-02T04:51:53.219079900Z",
     "start_time": "2023-12-02T04:51:52.600808700Z"
    }
   },
   "outputs": [],
   "source": [
    "filtered_df = df[[\"concepticon_id\", \"concepticon_gloss\", \"concreteness\"]].dropna().drop_duplicates()\n",
    "id_to_concreteness = filtered_df.set_index(\"concepticon_id\")[\"concreteness\"].to_dict()\n",
    "id_to_gloss = filtered_df.set_index(\"concepticon_id\")[\"concepticon_gloss\"].to_dict()"
   ]
  },
  {
   "cell_type": "markdown",
   "metadata": {},
   "source": [
    "### Frequency Histogram for Concreteness of Concepts\n",
    "\n",
    "To visualise how concreteness is distributed across concepts in the data, we have a histogram:"
   ]
  },
  {
   "cell_type": "code",
   "execution_count": 8,
   "metadata": {
    "ExecuteTime": {
     "end_time": "2023-12-02T04:51:54.812544400Z",
     "start_time": "2023-12-02T04:51:53.215090700Z"
    }
   },
   "outputs": [
    {
     "data": {
      "text/plain": [
       "<matplotlib.legend.Legend at 0x156ad4b90>"
      ]
     },
     "execution_count": 8,
     "metadata": {},
     "output_type": "execute_result"
    },
    {
     "data": {
      "image/png": "[encoded data removed]",
      "text/plain": [
       "<Figure size 640x480 with 1 Axes>"
      ]
     },
     "metadata": {},
     "output_type": "display_data"
    }
   ],
   "source": [
    "concreteness = filtered_df[[\"concreteness\"]]\n",
    "plt.hist(concreteness, bins=15,edgecolor=\"black\")\n",
    "plt.title(\"Frequency of Concreteness across Unique Concepts\")\n",
    "plt.xlabel(\"Concreteness\")\n",
    "plt.ylabel(\"Frequency\")\n",
    "plt.axvline(x=400, ls=\"--\", c=\"black\", label=\"Distinction between abstract and concrete\")\n",
    "plt.legend()"
   ]
  },
  {
   "cell_type": "markdown",
   "metadata": {},
   "source": [
    "# Helper functions"
   ]
  },
  {
   "cell_type": "markdown",
   "metadata": {},
   "source": [
    "For now, these just include the helper + main functions from the demo notebook, copied here for later use:"
   ]
  },
  {
   "cell_type": "code",
   "execution_count": 9,
   "metadata": {
    "ExecuteTime": {
     "end_time": "2023-12-02T04:51:54.813543900Z",
     "start_time": "2023-12-02T04:51:54.780998600Z"
    }
   },
   "outputs": [],
   "source": [
    "def per_lang_colexification(curr_df):\n",
    "    freq_dict = {}\n",
    "    conc_combo_dict = {}\n",
    "    type_count_dict = {\"abs_abs\": 0, \"conc_abs\": 0, \"conc_conc\": 0, \"all\": 0}\n",
    "    contigencyList = []\n",
    "    # We iterate through each row, which has the concepts associated with a specific word\n",
    "    for i, row in curr_df.iterrows():\n",
    "        # Get the current set of concepts\n",
    "        a = row['concepticon_id']\n",
    "        # Create all possible unique combinations of concepts, where each pair is alphabetically sorted\n",
    "        combos = list(set(map(lambda x: tuple(sorted(x)), product(a, a))))\n",
    "        # Ensure the concepts in the pair are not identical\n",
    "        combos = [combo for combo in combos if combo[0] != combo[1]]\n",
    "        # Add counts for a pair of combinations being colexified\n",
    "        for combo in combos:            \n",
    "            # add to concreteness_comb_dict and type_count_dict\n",
    "            if combo not in conc_combo_dict:\n",
    "                if combo[0] in id_to_concreteness and combo[1] in id_to_concreteness:\n",
    "                    conc1 = id_to_concreteness[combo[0]]\n",
    "                    conc2 = id_to_concreteness[combo[1]]\n",
    "                    \n",
    "                    conc_combo_dict[combo] = (conc1, conc2)\n",
    "                    \n",
    "                    type_count_dict[\"all\"] += 1\n",
    "                    if conc1 > 400 and conc2 > 400:\n",
    "                        type_count_dict[\"conc_conc\"] += 1\n",
    "                    elif conc1 <= 400 and conc2 <= 400:\n",
    "                        type_count_dict[\"abs_abs\"] += 1\n",
    "                    else:\n",
    "                        type_count_dict[\"conc_abs\"] += 1\n",
    "                    \n",
    "                    \n",
    "                    # AKUNNA: added this to create a contingency table for chi2 test\n",
    "                    if (conc1 <= 400 and conc2 <= 400): \n",
    "                        contigencyList.append(\"abs-ab\")\n",
    "                    elif conc1 <= 400 and conc2 > 400: \n",
    "                        contigencyList.append(\"abs-conc\")\n",
    "                    elif conc1 > 400 and conc2 <= 400: \n",
    "                        contigencyList.append(\"conc-abs\")\n",
    "                    elif conc1 > 400 and conc2 > 400: \n",
    "                        contigencyList.append(\"conc-conc\")\n",
    "                        \n",
    "                    \n",
    "                    \n",
    "            # add to freq dict (if it was added to concreteness)\n",
    "            if combo in freq_dict:\n",
    "                freq_dict[combo] += 1\n",
    "            else:\n",
    "                freq_dict[combo] = 1\n",
    "\n",
    "    # Create a DataFrame out of our dictionary and return the colexification counts for two concepts\n",
    "    tmp1 = pd.DataFrame(list(conc_combo_dict.items()), columns=['pair_ids', 'concreteness'])\n",
    "    tmp2 = pd.DataFrame(list(freq_dict.items()), columns=['pair_ids', 'frequency'])\n",
    "    per_lang = pd.merge(tmp1, tmp2, on='pair_ids', how='inner')\n",
    "    \n",
    "    # create dataframe to store percentages of types\n",
    "    type_counts = pd.DataFrame([type_count_dict])\n",
    "    \n",
    "    return per_lang, type_counts, contigencyList"
   ]
  },
  {
   "cell_type": "code",
   "execution_count": 10,
   "metadata": {
    "ExecuteTime": {
     "end_time": "2023-12-02T04:51:54.952129200Z",
     "start_time": "2023-12-02T04:51:54.838547600Z"
    }
   },
   "outputs": [],
   "source": [
    "def main():\n",
    "    all_pairs_dfs = []\n",
    "    all_type_counts_dfs = []\n",
    "    all_contigency_list = []\n",
    "    for variety in tqdm(df['variety'].unique()):\n",
    "        sub = df[df['variety'] == variety]\n",
    "        agg = sub.groupby(\"clics_form\")[['concepticon_gloss', 'concepticon_id']].agg(list)\n",
    "        agg['num_concepts'] = agg['concepticon_gloss'].apply(lambda x: len(set(x)))\n",
    "        colex = agg[agg['num_concepts']>1]\n",
    "        colex['concepticon_gloss'] = colex['concepticon_gloss'].apply(lambda x: sorted(list(set(x))))\n",
    "        # We skip any language where no concepts are colexified\n",
    "        if colex.shape[0] == 0:\n",
    "            continue\n",
    "        curr_df, curr_type_count, curr_contingency = per_lang_colexification(colex)\n",
    "        all_pairs_dfs.append(curr_df)\n",
    "        all_type_counts_dfs.append(curr_type_count)\n",
    "        all_contigency_list.extend(curr_contingency)\n",
    "    mega = pd.concat(all_pairs_dfs)\n",
    "    mega = mega.groupby([\"pair_ids\", \"concreteness\"]).sum().reset_index()\n",
    "    \n",
    "    all_counts = pd.concat(all_type_counts_dfs)\n",
    "    \n",
    "    return mega, all_counts, Counter(all_contigency_list)"
   ]
  },
  {
   "cell_type": "code",
   "execution_count": 11,
   "metadata": {
    "ExecuteTime": {
     "end_time": "2023-12-02T04:59:36.930283Z",
     "start_time": "2023-12-02T04:51:54.859537600Z"
    }
   },
   "outputs": [
    {
     "name": "stderr",
     "output_type": "stream",
     "text": [
      "100%|███████████████████████████████████████| 3050/3050 [02:00<00:00, 25.41it/s]\n"
     ]
    }
   ],
   "source": [
    "mega, counts, contigencyDict = main()"
   ]
  },
  {
   "cell_type": "code",
   "execution_count": 13,
   "metadata": {},
   "outputs": [
    {
     "data": {
      "text/html": [
       "<div>\n",
       "<style scoped>\n",
       "    .dataframe tbody tr th:only-of-type {\n",
       "        vertical-align: middle;\n",
       "    }\n",
       "\n",
       "    .dataframe tbody tr th {\n",
       "        vertical-align: top;\n",
       "    }\n",
       "\n",
       "    .dataframe thead th {\n",
       "        text-align: right;\n",
       "    }\n",
       "</style>\n",
       "<table border=\"1\" class=\"dataframe\">\n",
       "  <thead>\n",
       "    <tr style=\"text-align: right;\">\n",
       "      <th></th>\n",
       "      <th>pair_ids</th>\n",
       "      <th>concreteness</th>\n",
       "      <th>frequency</th>\n",
       "      <th>x</th>\n",
       "      <th>y</th>\n",
       "      <th>pair_glosses</th>\n",
       "    </tr>\n",
       "  </thead>\n",
       "  <tbody>\n",
       "    <tr>\n",
       "      <th>0</th>\n",
       "      <td>(2, 15)</td>\n",
       "      <td>(550.0, 631.0)</td>\n",
       "      <td>1</td>\n",
       "      <td>550.0</td>\n",
       "      <td>631.0</td>\n",
       "      <td>(DUST, OTTER)</td>\n",
       "    </tr>\n",
       "    <tr>\n",
       "      <th>1</th>\n",
       "      <td>(2, 25)</td>\n",
       "      <td>(550.0, 564.0)</td>\n",
       "      <td>2</td>\n",
       "      <td>550.0</td>\n",
       "      <td>564.0</td>\n",
       "      <td>(DUST, DIRT)</td>\n",
       "    </tr>\n",
       "    <tr>\n",
       "      <th>2</th>\n",
       "      <td>(2, 52)</td>\n",
       "      <td>(550.0, 455.0)</td>\n",
       "      <td>1</td>\n",
       "      <td>550.0</td>\n",
       "      <td>455.0</td>\n",
       "      <td>(DUST, SHIVER)</td>\n",
       "    </tr>\n",
       "    <tr>\n",
       "      <th>3</th>\n",
       "      <td>(2, 113)</td>\n",
       "      <td>(550.0, 574.0)</td>\n",
       "      <td>1</td>\n",
       "      <td>550.0</td>\n",
       "      <td>574.0</td>\n",
       "      <td>(DUST, SHORE)</td>\n",
       "    </tr>\n",
       "    <tr>\n",
       "      <th>4</th>\n",
       "      <td>(2, 122)</td>\n",
       "      <td>(550.0, 576.0)</td>\n",
       "      <td>1</td>\n",
       "      <td>550.0</td>\n",
       "      <td>576.0</td>\n",
       "      <td>(DUST, CART)</td>\n",
       "    </tr>\n",
       "    <tr>\n",
       "      <th>...</th>\n",
       "      <td>...</td>\n",
       "      <td>...</td>\n",
       "      <td>...</td>\n",
       "      <td>...</td>\n",
       "      <td>...</td>\n",
       "      <td>...</td>\n",
       "    </tr>\n",
       "    <tr>\n",
       "      <th>28759</th>\n",
       "      <td>(2485, 2558)</td>\n",
       "      <td>(451.0, 360.0)</td>\n",
       "      <td>1</td>\n",
       "      <td>451.0</td>\n",
       "      <td>360.0</td>\n",
       "      <td>(HIDE (ONESELF), BREAK (CLEAVE))</td>\n",
       "    </tr>\n",
       "    <tr>\n",
       "      <th>28760</th>\n",
       "      <td>(2493, 2558)</td>\n",
       "      <td>(467.0, 360.0)</td>\n",
       "      <td>1</td>\n",
       "      <td>467.0</td>\n",
       "      <td>360.0</td>\n",
       "      <td>(BOIL, BREAK (CLEAVE))</td>\n",
       "    </tr>\n",
       "    <tr>\n",
       "      <th>28761</th>\n",
       "      <td>(2509, 2549)</td>\n",
       "      <td>(356.0, 558.0)</td>\n",
       "      <td>1</td>\n",
       "      <td>356.0</td>\n",
       "      <td>558.0</td>\n",
       "      <td>(EXCHANGE, VEHICLE)</td>\n",
       "    </tr>\n",
       "    <tr>\n",
       "      <th>28762</th>\n",
       "      <td>(2509, 2558)</td>\n",
       "      <td>(356.0, 360.0)</td>\n",
       "      <td>1</td>\n",
       "      <td>356.0</td>\n",
       "      <td>360.0</td>\n",
       "      <td>(EXCHANGE, BREAK (CLEAVE))</td>\n",
       "    </tr>\n",
       "    <tr>\n",
       "      <th>28763</th>\n",
       "      <td>(2613, 2614)</td>\n",
       "      <td>(614.0, 614.0)</td>\n",
       "      <td>3</td>\n",
       "      <td>614.0</td>\n",
       "      <td>614.0</td>\n",
       "      <td>(SKIN (HUMAN), SKIN (ANIMAL))</td>\n",
       "    </tr>\n",
       "  </tbody>\n",
       "</table>\n",
       "<p>28764 rows × 6 columns</p>\n",
       "</div>"
      ],
      "text/plain": [
       "           pair_ids    concreteness  frequency      x      y  \\\n",
       "0           (2, 15)  (550.0, 631.0)          1  550.0  631.0   \n",
       "1           (2, 25)  (550.0, 564.0)          2  550.0  564.0   \n",
       "2           (2, 52)  (550.0, 455.0)          1  550.0  455.0   \n",
       "3          (2, 113)  (550.0, 574.0)          1  550.0  574.0   \n",
       "4          (2, 122)  (550.0, 576.0)          1  550.0  576.0   \n",
       "...             ...             ...        ...    ...    ...   \n",
       "28759  (2485, 2558)  (451.0, 360.0)          1  451.0  360.0   \n",
       "28760  (2493, 2558)  (467.0, 360.0)          1  467.0  360.0   \n",
       "28761  (2509, 2549)  (356.0, 558.0)          1  356.0  558.0   \n",
       "28762  (2509, 2558)  (356.0, 360.0)          1  356.0  360.0   \n",
       "28763  (2613, 2614)  (614.0, 614.0)          3  614.0  614.0   \n",
       "\n",
       "                           pair_glosses  \n",
       "0                         (DUST, OTTER)  \n",
       "1                          (DUST, DIRT)  \n",
       "2                        (DUST, SHIVER)  \n",
       "3                         (DUST, SHORE)  \n",
       "4                          (DUST, CART)  \n",
       "...                                 ...  \n",
       "28759  (HIDE (ONESELF), BREAK (CLEAVE))  \n",
       "28760            (BOIL, BREAK (CLEAVE))  \n",
       "28761               (EXCHANGE, VEHICLE)  \n",
       "28762        (EXCHANGE, BREAK (CLEAVE))  \n",
       "28763     (SKIN (HUMAN), SKIN (ANIMAL))  \n",
       "\n",
       "[28764 rows x 6 columns]"
      ]
     },
     "execution_count": 13,
     "metadata": {},
     "output_type": "execute_result"
    }
   ],
   "source": [
    "mega['x'] = mega['concreteness'].apply(lambda coord: coord[0])\n",
    "mega['y'] = mega['concreteness'].apply(lambda coord: coord[1])\n",
    "mega['pair_glosses'] = mega['pair_ids'].apply(lambda ids: (id_to_gloss[ids[0]], id_to_gloss[ids[1]]))\n",
    "mega"
   ]
  },
  {
   "cell_type": "code",
   "execution_count": 26,
   "metadata": {},
   "outputs": [
    {
     "data": {
      "text/html": [
       "<div>\n",
       "<style scoped>\n",
       "    .dataframe tbody tr th:only-of-type {\n",
       "        vertical-align: middle;\n",
       "    }\n",
       "\n",
       "    .dataframe tbody tr th {\n",
       "        vertical-align: top;\n",
       "    }\n",
       "\n",
       "    .dataframe thead th {\n",
       "        text-align: right;\n",
       "    }\n",
       "</style>\n",
       "<table border=\"1\" class=\"dataframe\">\n",
       "  <thead>\n",
       "    <tr style=\"text-align: right;\">\n",
       "      <th></th>\n",
       "      <th>pair_glosses</th>\n",
       "      <th>concreteness</th>\n",
       "      <th>frequency</th>\n",
       "    </tr>\n",
       "  </thead>\n",
       "  <tbody>\n",
       "    <tr>\n",
       "      <th>18584</th>\n",
       "      <td>(WE (INCLUSIVE), WE)</td>\n",
       "      <td>(270.0, 270.0)</td>\n",
       "      <td>157</td>\n",
       "    </tr>\n",
       "    <tr>\n",
       "      <th>12622</th>\n",
       "      <td>(END (OF SPACE), END (OF TIME))</td>\n",
       "      <td>(320.0, 320.0)</td>\n",
       "      <td>132</td>\n",
       "    </tr>\n",
       "    <tr>\n",
       "      <th>23381</th>\n",
       "      <td>(WITH, AND)</td>\n",
       "      <td>(268.0, 220.0)</td>\n",
       "      <td>132</td>\n",
       "    </tr>\n",
       "    <tr>\n",
       "      <th>18549</th>\n",
       "      <td>(WE (EXCLUSIVE), WE (INCLUSIVE))</td>\n",
       "      <td>(270.0, 270.0)</td>\n",
       "      <td>125</td>\n",
       "    </tr>\n",
       "    <tr>\n",
       "      <th>24825</th>\n",
       "      <td>(THINK (REFLECT), THINK (BELIEVE))</td>\n",
       "      <td>(346.0, 346.0)</td>\n",
       "      <td>124</td>\n",
       "    </tr>\n",
       "  </tbody>\n",
       "</table>\n",
       "</div>"
      ],
      "text/plain": [
       "                             pair_glosses    concreteness  frequency\n",
       "18584                (WE (INCLUSIVE), WE)  (270.0, 270.0)        157\n",
       "12622     (END (OF SPACE), END (OF TIME))  (320.0, 320.0)        132\n",
       "23381                         (WITH, AND)  (268.0, 220.0)        132\n",
       "18549    (WE (EXCLUSIVE), WE (INCLUSIVE))  (270.0, 270.0)        125\n",
       "24825  (THINK (REFLECT), THINK (BELIEVE))  (346.0, 346.0)        124"
      ]
     },
     "execution_count": 26,
     "metadata": {},
     "output_type": "execute_result"
    }
   ],
   "source": [
    "abstract_abstract = mega[(mega['x'] <= 400) & (mega['y'] <= 400)]\n",
    "abstract_abstract.sort_values(by=\"frequency\", ascending=False).head(5)[['pair_glosses', \"concreteness\", \"frequency\"]]"
   ]
  },
  {
   "cell_type": "code",
   "execution_count": 28,
   "metadata": {},
   "outputs": [
    {
     "data": {
      "text/html": [
       "<div>\n",
       "<style scoped>\n",
       "    .dataframe tbody tr th:only-of-type {\n",
       "        vertical-align: middle;\n",
       "    }\n",
       "\n",
       "    .dataframe tbody tr th {\n",
       "        vertical-align: top;\n",
       "    }\n",
       "\n",
       "    .dataframe thead th {\n",
       "        text-align: right;\n",
       "    }\n",
       "</style>\n",
       "<table border=\"1\" class=\"dataframe\">\n",
       "  <thead>\n",
       "    <tr style=\"text-align: right;\">\n",
       "      <th></th>\n",
       "      <th>pair_glosses</th>\n",
       "      <th>concreteness</th>\n",
       "      <th>frequency</th>\n",
       "    </tr>\n",
       "  </thead>\n",
       "  <tbody>\n",
       "    <tr>\n",
       "      <th>15406</th>\n",
       "      <td>(TREE, WOOD)</td>\n",
       "      <td>(604.0, 606.0)</td>\n",
       "      <td>356</td>\n",
       "    </tr>\n",
       "    <tr>\n",
       "      <th>22620</th>\n",
       "      <td>(LEG, FOOT)</td>\n",
       "      <td>(626.0, 558.0)</td>\n",
       "      <td>354</td>\n",
       "    </tr>\n",
       "    <tr>\n",
       "      <th>16492</th>\n",
       "      <td>(WOMAN, WIFE)</td>\n",
       "      <td>(580.0, 562.0)</td>\n",
       "      <td>302</td>\n",
       "    </tr>\n",
       "    <tr>\n",
       "      <th>22235</th>\n",
       "      <td>(HAND, ARM)</td>\n",
       "      <td>(604.0, 592.0)</td>\n",
       "      <td>301</td>\n",
       "    </tr>\n",
       "    <tr>\n",
       "      <th>8365</th>\n",
       "      <td>(LEATHER, SKIN)</td>\n",
       "      <td>(575.0, 614.0)</td>\n",
       "      <td>279</td>\n",
       "    </tr>\n",
       "  </tbody>\n",
       "</table>\n",
       "</div>"
      ],
      "text/plain": [
       "          pair_glosses    concreteness  frequency\n",
       "15406     (TREE, WOOD)  (604.0, 606.0)        356\n",
       "22620      (LEG, FOOT)  (626.0, 558.0)        354\n",
       "16492    (WOMAN, WIFE)  (580.0, 562.0)        302\n",
       "22235      (HAND, ARM)  (604.0, 592.0)        301\n",
       "8365   (LEATHER, SKIN)  (575.0, 614.0)        279"
      ]
     },
     "execution_count": 28,
     "metadata": {},
     "output_type": "execute_result"
    }
   ],
   "source": [
    "concrete_concrete = mega[(mega['x'] > 400) & (mega['y'] > 400)]\n",
    "concrete_concrete.sort_values(by=\"frequency\", ascending=False).head(5)[['pair_glosses', \"concreteness\", \"frequency\"]]"
   ]
  },
  {
   "cell_type": "code",
   "execution_count": 34,
   "metadata": {},
   "outputs": [
    {
     "data": {
      "text/html": [
       "<div>\n",
       "<style scoped>\n",
       "    .dataframe tbody tr th:only-of-type {\n",
       "        vertical-align: middle;\n",
       "    }\n",
       "\n",
       "    .dataframe tbody tr th {\n",
       "        vertical-align: top;\n",
       "    }\n",
       "\n",
       "    .dataframe thead th {\n",
       "        text-align: right;\n",
       "    }\n",
       "</style>\n",
       "<table border=\"1\" class=\"dataframe\">\n",
       "  <thead>\n",
       "    <tr style=\"text-align: right;\">\n",
       "      <th></th>\n",
       "      <th>pair_glosses</th>\n",
       "      <th>concreteness</th>\n",
       "      <th>frequency</th>\n",
       "    </tr>\n",
       "  </thead>\n",
       "  <tbody>\n",
       "    <tr>\n",
       "      <th>10785</th>\n",
       "      <td>(GO, WALK)</td>\n",
       "      <td>(337.0, 452.0)</td>\n",
       "      <td>336</td>\n",
       "    </tr>\n",
       "    <tr>\n",
       "      <th>22843</th>\n",
       "      <td>(MOON, MONTH)</td>\n",
       "      <td>(581.0, 345.0)</td>\n",
       "      <td>328</td>\n",
       "    </tr>\n",
       "    <tr>\n",
       "      <th>11324</th>\n",
       "      <td>(TALL, HIGH)</td>\n",
       "      <td>(439.0, 371.0)</td>\n",
       "      <td>188</td>\n",
       "    </tr>\n",
       "    <tr>\n",
       "      <th>11316</th>\n",
       "      <td>(TALL, LONG)</td>\n",
       "      <td>(439.0, 381.0)</td>\n",
       "      <td>126</td>\n",
       "    </tr>\n",
       "    <tr>\n",
       "      <th>21183</th>\n",
       "      <td>(FEW, SMALL)</td>\n",
       "      <td>(309.0, 402.0)</td>\n",
       "      <td>125</td>\n",
       "    </tr>\n",
       "    <tr>\n",
       "      <th>22986</th>\n",
       "      <td>(CLOCK, HOUR)</td>\n",
       "      <td>(591.0, 375.0)</td>\n",
       "      <td>120</td>\n",
       "    </tr>\n",
       "    <tr>\n",
       "      <th>27071</th>\n",
       "      <td>(HEAVEN, SKY)</td>\n",
       "      <td>(305.0, 542.0)</td>\n",
       "      <td>119</td>\n",
       "    </tr>\n",
       "    <tr>\n",
       "      <th>10416</th>\n",
       "      <td>(EASY, LIGHT (WEIGHT))</td>\n",
       "      <td>(288.0, 550.0)</td>\n",
       "      <td>114</td>\n",
       "    </tr>\n",
       "    <tr>\n",
       "      <th>24605</th>\n",
       "      <td>(HEAR, LISTEN)</td>\n",
       "      <td>(394.0, 408.0)</td>\n",
       "      <td>111</td>\n",
       "    </tr>\n",
       "    <tr>\n",
       "      <th>11654</th>\n",
       "      <td>(SHOUT, CALL)</td>\n",
       "      <td>(471.0, 389.0)</td>\n",
       "      <td>88</td>\n",
       "    </tr>\n",
       "  </tbody>\n",
       "</table>\n",
       "</div>"
      ],
      "text/plain": [
       "                 pair_glosses    concreteness  frequency\n",
       "10785              (GO, WALK)  (337.0, 452.0)        336\n",
       "22843           (MOON, MONTH)  (581.0, 345.0)        328\n",
       "11324            (TALL, HIGH)  (439.0, 371.0)        188\n",
       "11316            (TALL, LONG)  (439.0, 381.0)        126\n",
       "21183            (FEW, SMALL)  (309.0, 402.0)        125\n",
       "22986           (CLOCK, HOUR)  (591.0, 375.0)        120\n",
       "27071           (HEAVEN, SKY)  (305.0, 542.0)        119\n",
       "10416  (EASY, LIGHT (WEIGHT))  (288.0, 550.0)        114\n",
       "24605          (HEAR, LISTEN)  (394.0, 408.0)        111\n",
       "11654           (SHOUT, CALL)  (471.0, 389.0)         88"
      ]
     },
     "execution_count": 34,
     "metadata": {},
     "output_type": "execute_result"
    }
   ],
   "source": [
    "concrete_abstract = mega[((mega['x'] <= 400) & (mega['y'] > 400)) | ((mega['x'] > 400) & (mega['y'] <= 400))]\n",
    "concrete_abstract.sort_values(by=\"frequency\", ascending=False).head(10)[['pair_glosses', \"concreteness\", \"frequency\"]]"
   ]
  },
  {
   "cell_type": "code",
   "execution_count": 36,
   "metadata": {
    "ExecuteTime": {
     "end_time": "2023-12-02T04:59:37.233840500Z",
     "start_time": "2023-12-02T04:59:36.950797800Z"
    }
   },
   "outputs": [
    {
     "data": {
      "image/png": "[encoded data removed]",
      "text/plain": [
       "<Figure size 640x480 with 1 Axes>"
      ]
     },
     "metadata": {},
     "output_type": "display_data"
    }
   ],
   "source": [
    "counts = counts[counts[\"all\"] != 0]\n",
    "type_percents = pd.DataFrame({\n",
    "    'Abstract-Abstract': counts['abs_abs'] / counts['all'] * 100,\n",
    "    'Concrete-Abstract': counts['conc_abs'] / counts['all'] * 100,\n",
    "    'Concrete-Concrete': counts['conc_conc'] / counts['all'] * 100\n",
    "})\n",
    "means = type_percents.mean()\n",
    "std_devs = type_percents.std()\n",
    "# Plot the bar graph with error bars\n",
    "fig, ax = plt.subplots()\n",
    "\n",
    "means.plot(kind='bar', yerr=std_devs, ax=ax, capsize=5, edgecolor='black')\n",
    "\n",
    "# Set labels and title\n",
    "ax.set_ylabel('Average Relative Frequency (%)')\n",
    "ax.set_xlabel('Type of Pair')\n",
    "ax.set_title('Average Relative Frequency for each type of Pair across Languages')\n",
    "plt.xticks(rotation=20, ha=\"right\")\n",
    "\n",
    "# Show the plot\n",
    "plt.show()"
   ]
  },
  {
   "cell_type": "code",
   "execution_count": null,
   "metadata": {
    "ExecuteTime": {
     "end_time": "2023-12-02T04:59:37.668887100Z",
     "start_time": "2023-12-02T04:59:37.219323500Z"
    }
   },
   "outputs": [],
   "source": [
    "plt.figure()\n",
    "plt.scatter(mega['x'], mega['y'], s=0.7, alpha=0.3)\n",
    "plt.xlim(100, 700)\n",
    "plt.ylim(100, 700)\n",
    "plt.xlabel('Concreteness of Concept 1')\n",
    "plt.ylabel('Concreteness of Concept 2')\n",
    "plt.title('Concreteness of Colexification Pairs')\n",
    "plt.axvline(x=400, ls=\"--\", c=\"gray\")\n",
    "plt.axhline(y=400, ls=\"--\", c=\"gray\")\n",
    "plt.show()"
   ]
  },
  {
   "cell_type": "code",
   "execution_count": null,
   "metadata": {
    "ExecuteTime": {
     "end_time": "2023-12-02T04:59:59.704191800Z",
     "start_time": "2023-12-02T04:59:37.668887100Z"
    }
   },
   "outputs": [],
   "source": [
    "# Create a 3D axis\n",
    "fig = plt.figure()\n",
    "ax = fig.add_subplot(111, projection='3d')\n",
    "\n",
    "# Plot the 3D histogram\n",
    "ax.bar3d(mega['x'], mega['y'], 0, 20, 1, mega['frequency'], shade=True)\n",
    "\n",
    "# Set labels for axes\n",
    "ax.set_xlabel('Concept 1 Concreteness')\n",
    "ax.set_ylabel('Concept 2 Concreteness')\n",
    "ax.set_zlabel('Frequency of Pair')\n",
    "ax.set_box_aspect(aspect = None, zoom=0.8)\n",
    "ax = plt.figure(constrained_layout=True)\n",
    "# Show the plot\n",
    "plt.show()"
   ]
  },
  {
   "cell_type": "code",
   "execution_count": null,
   "metadata": {
    "ExecuteTime": {
     "end_time": "2023-12-02T04:59:59.978905700Z",
     "start_time": "2023-12-02T04:59:59.704191800Z"
    }
   },
   "outputs": [],
   "source": [
    "mega[\"absolute_diff\"] = abs(mega[\"x\"] - mega[\"y\"])\n",
    "plt.figure()\n",
    "plt.hist(mega[\"absolute_diff\"], bins=15, edgecolor=\"black\")\n",
    "plt.show()"
   ]
  },
  {
   "cell_type": "code",
   "execution_count": null,
   "metadata": {
    "ExecuteTime": {
     "end_time": "2023-12-02T05:00:00.010182800Z",
     "start_time": "2023-12-02T04:59:59.978905700Z"
    }
   },
   "outputs": [],
   "source": [
    "# Testing for Significant Difference Between Our Abstract and Concrete Concepts Given Our Cut-Off of 400 Using a T-Test\n",
    "# Null Hypothesis: There is no significance\n",
    "\n",
    "group1 = abstract_cpts['concreteness']\n",
    "group2 = concrete_cpts['concreteness']\n",
    "t_stat, p_value = ttest_ind(group1, group2, equal_var=False)\n",
    "\n",
    "# Null Hypothesis Rejected\n",
    "# Since the p value is low we can continue knowing that there is a significant difference in concreteness between the two categories given our working definition.\n",
    "print(f\"t-statistic is: {t_stat} \", f\"p-value is: {p_value}\")"
   ]
  },
  {
   "cell_type": "code",
   "execution_count": null,
   "metadata": {
    "ExecuteTime": {
     "start_time": "2023-12-02T04:59:59.994555900Z"
    }
   },
   "outputs": [],
   "source": [
    "# Testing for Linear Relationship Between Our Abstract and Concrete Colexification Using a Pearson Correlation Like in Class\n",
    "# Null Hypothesis: There is no linear relationship between the two\n",
    "\n",
    "# Assuming you have two pandas Series or NumPy arrays\n",
    "x = mega['x']\n",
    "y = mega['y']\n",
    "correlation_coefficient, correlation_p_value = pearsonr(x, y)\n",
    "\n",
    "print(f\"Correlation Coefficient is: {correlation_coefficient} \", \n",
    "      f\"Correlation P- Value is: {correlation_p_value}\")\n",
    "\n",
    "# Null Hypothesis Accepted\n",
    "# It makes sense that the relationship is non-linear, the p-value is also pretty high\n",
    "# TODO: research a test that could show non linear co-variance, it will likely need to be at least 2nd order"
   ]
  },
  {
   "cell_type": "code",
   "execution_count": null,
   "metadata": {
    "ExecuteTime": {
     "start_time": "2023-12-02T05:12:54.008814400Z"
    }
   },
   "outputs": [],
   "source": [
    "# Testing for Independence Between The Category of The First and Second Concreteness Category of The Colexified Pairs Using a Chi2 Test\n",
    "# Null Hypothesis: the category of the first concepticon gloss in a given colexified pair has no affect (is independent of) the category of the second concepticon gloss in the pair, and vice versa\n",
    "\n",
    "contingencyTable = [ [ contigencyDict[\"abs-abs\"], contigencyDict[\"abs-conc\"]   ],\n",
    "                     [ contigencyDict[\"conc-abs\"], contigencyDict[\"conc-conc\"] ]\n",
    "                    ]               \n",
    "\n",
    "# Perform chi-square test\n",
    "chi2_stat, p_value, dof, expected = chi2_contingency(contingencyTable)\n",
    "\n",
    "# Display results\n",
    "print(f\"Chi-square statistic: {chi2_stat}\")\n",
    "print(f\"P-value: {p_value}\")\n",
    "print(f\"Degrees of freedom: {dof}\")\n",
    "print(\"Expected frequencies: \", expected)\n",
    "print(\"Observed Frequencies: \", contingencyTable)\n",
    "\n",
    "# The results show that there is statistical significance between the expected frequencies of the four categories (given that they are independent) and what was observed from the data. This suggests that there is a relationship between the what concreteness category the first gloss falls into and the second"
   ]
  },
  {
   "cell_type": "code",
   "execution_count": null,
   "metadata": {
    "ExecuteTime": {
     "end_time": "2023-12-02T06:28:47.751945200Z",
     "start_time": "2023-12-02T06:28:47.385603400Z"
    }
   },
   "outputs": [],
   "source": [
    "# Testing For Directionality of Relationship Between Concreteness Categorization Within Colexified Pairs Using a Logistic Regression Model\n",
    "# Null Hypothesis: The odds of the presence of a concrete variable in a colexified pair is not affected by the presence of an abstract concept\n",
    "\n",
    "# Preparing the data: I need 2 pairs of variable-outcome relationships to do this test\n",
    "    # Create a binary predictor column based on the 'concreteness' column\n",
    "\n",
    "mega['predictorAbstract'] = (mega['concreteness'].str[0] <= 400).astype(int)\n",
    "mega['outcomeConcrete'] = (mega['concreteness'].str[1] > 400).astype(int)\n",
    "\n",
    "# Define predictors (the first concept being abstract) and target variable (the second concept being concrete)\n",
    "X = sm.add_constant(mega[['predictorAbstract']])\n",
    "y = mega['outcomeConcrete']\n",
    "\n",
    "# Fit the logistic regression model\n",
    "model = sm.Logit(y, X)\n",
    "result = model.fit()\n",
    "\n",
    "print(result.summary())\n",
    "\n",
    "# Doing the same steps from above for logistic regression model but with concrete - abstract pairs\n",
    "mega['predictorConcrete'] = (mega['concreteness'].str[0] > 400).astype(int)\n",
    "mega['outcomeAbstract'] = (mega['concreteness'].str[1] <= 400).astype(int)\n",
    "\n",
    "# Define predictors (the first concept being concrete) and target variable (the second concept being abstract)\n",
    "X = sm.add_constant(mega[['predictorConcrete']])\n",
    "y = mega['outcomeAbstract']\n",
    "\n",
    "# Fit the logistic regression model\n",
    "model = sm.Logit(y, X)\n",
    "result = model.fit()\n",
    "\n",
    "print(result.summary())\n",
    "\n",
    "\n",
    "# Null Hypothesis Rejected\n",
    "# The results are interesting since both regressions give the same p-value. I am concerned about the R-squared values, this is why I should email Jai about \n",
    "# goodness of fit (it's not bad but could be better). Overall, it shows that the presence of an abstract concept increases the likelihood of the presence of a \n",
    "# concrete concept\n",
    "# TODO: email Jai about null model comparison with this and goodness of fit test, also ask if statsmodel.api is allowed\n",
    "\n"
   ]
  },
  {
   "cell_type": "code",
   "execution_count": null,
   "metadata": {
    "ExecuteTime": {
     "start_time": "2023-12-02T05:00:00.025805100Z"
    }
   },
   "outputs": [],
   "source": [
    "# More Testing\n",
    "# I think a good idea for a test would be to incorporate age of acquisition. If we find significance in the concrete concept being learned (on average) earlier \n",
    "# than the abstract one, the idea of metaphorical representation could be supported greatly.\n",
    "\n",
    "# TODO: the frequency test Professor Xu mentioned in class"
   ]
  },
  {
   "cell_type": "code",
   "execution_count": null,
   "metadata": {
    "ExecuteTime": {
     "end_time": "2023-12-02T05:18:33.432622400Z",
     "start_time": "2023-12-02T05:18:33.369623200Z"
    }
   },
   "outputs": [],
   "source": [
    "column_sums = counts.sum(axis=0)\n",
    "print(column_sums) # TODO: figure out why counts total is slightly different from contingencyDict\n",
    "print(contigencyDict)"
   ]
  }
 ],
 "metadata": {
  "kernelspec": {
   "display_name": "Python 3 (ipykernel)",
   "language": "python",
   "name": "python3"
  },
  "language_info": {
   "codemirror_mode": {
    "name": "ipython",
    "version": 3
   },
   "file_extension": ".py",
   "mimetype": "text/x-python",
   "name": "python",
   "nbconvert_exporter": "python",
   "pygments_lexer": "ipython3",
   "version": "3.11.4"
  }
 },
 "nbformat": 4,
 "nbformat_minor": 2
}
