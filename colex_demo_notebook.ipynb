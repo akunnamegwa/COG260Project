{
 "cells": [
  {
   "cell_type": "markdown",
   "metadata": {},
   "source": [
    "# Demos for analyzing Colexification Data\n",
    "\n",
    "This Python notebook was developed by Jai Aggarwal for the course COG260:\n",
    "Data, Computation, and The Mind in Fall 2022 (instructor: Yang Xu).\n",
    "\n",
    "Data source: https://osf.io/hjvm5/\n",
    "\n",
    "Paper: https://psyarxiv.com/efs4p/\n",
    "\n",
    "__Original Paper__:\n",
    "\n",
    "Brochhagen, T., G. Boleda. 2022. When do languages use the same word for\n",
    "different meanings? The Goldilocks Principle in colexification. Cognition,\n",
    "Volume 226, 105179.\n",
    "\n",
    "__Additional Readings__:\n",
    "\n",
    "1. On cross-linguistic universals in colexification:\n",
    "\n",
    "   a. Xu, Y., Duong, K., Malt, B.C., Jiang, S., and Srinivasan, M. (2020)\n",
    "   Conceptual relations predict colexification across languages. Cognition,\n",
    "   201, 104280.\n",
    "\n",
    "   b. Youn, H., Sutton, L., Smith, E., Moore, C., Wilkins, J. F., Maddieson,\n",
    "   I., ... & Bhattacharya, T. (2016). On the universal structure of human \n",
    "   lexical semantics. Proceedings of the National Academy of Sciences,\n",
    "   113(7), 1766-1771.\n",
    "\n",
    "\n",
    "2. On cross-linguistic variation in colexification:\n",
    "\n",
    "   a. Regier, T., Carstensen, A., & Kemp, C. (2016). Languages support \n",
    "   efficient communication about the environment: Words for snow revisited. \n",
    "   PloS one, 11(4), e0151138."
   ]
  },
  {
   "cell_type": "markdown",
   "metadata": {},
   "source": [
    "Import relevant Python libraries."
   ]
  },
  {
   "cell_type": "code",
   "execution_count": 1,
   "metadata": {
    "ExecuteTime": {
     "end_time": "2023-11-13T17:37:46.319049300Z",
     "start_time": "2023-11-13T17:37:45.054388500Z"
    }
   },
   "outputs": [],
   "source": [
    "import numpy as np\n",
    "import pandas as pd\n",
    "# the library below is useful for estimating the progress of a for loop\n",
    "# the use of tqdm will be displayed in Demo 2\n",
    "from tqdm import tqdm\n",
    "from itertools import product\n",
    "\n",
    "pd.options.mode.chained_assignment = None"
   ]
  },
  {
   "cell_type": "code",
   "execution_count": 2,
   "metadata": {
    "ExecuteTime": {
     "end_time": "2023-11-13T17:37:53.310035200Z",
     "start_time": "2023-11-13T17:37:46.336623600Z"
    }
   },
   "outputs": [
    {
     "name": "stderr",
     "output_type": "stream",
     "text": [
      "C:\\Users\\akunn\\AppData\\Local\\Temp\\ipykernel_13840\\3965542381.py:1: DtypeWarning: Columns (4) have mixed types. Specify dtype option on import or set low_memory=False.\n",
      "  df = pd.read_csv(\"df_all_raw.csv\")\n"
     ]
    }
   ],
   "source": [
    "df = pd.read_csv(\"df_all_raw.csv\")\n",
    "df.columns = list(map(str.lower, df.columns))\n",
    "df = df.drop(columns=['dataset_id', 'form_id', 'form', 'gloss_in_source', 'iso639p3code', 'mrc_word', 'kucera_francis_frequency'])"
   ]
  },
  {
   "cell_type": "markdown",
   "metadata": {},
   "source": [
    "# Data Fields\n",
    "\n",
    "**clics_form**: the form of the word in the language of interest\n",
    "\n",
    "**concepticon_id**: unique numerical identifier of underlying concept\n",
    "\n",
    "**concepticon_gloss**: the concept underlying the word form\n",
    "\n",
    "**ontological_category**: broad category that the concept falls into\n",
    "\n",
    "**semantic_field**: a set of words related in meaning\n",
    "\n",
    "**variety**: the language\n",
    "\n",
    "**glottocode**: unique alphanumeric identifier for the language variety\n",
    "\n",
    "**macroarea**: the part of the world the language is common in\n",
    "\n",
    "**family**: the language family of the current variety\n",
    "\n",
    "**latitude**: rough latitude where the language variety can be found\n",
    "\n",
    "**longitude**: rough latitude where the language variety can be found\n",
    "\n",
    "**age_of_acquisition**: the age at which a concept is typically learned\n",
    "\n",
    "**concreteness**: a numerical rating of how abstract or concrete a concept is, rated from (100-700)\n",
    "\n",
    "**familiarity**: a numerical rating of how familiar a concept is to the average person, rated from (100-700)\n",
    "\n",
    "**imagability**: a numerical rating of how well an average person can mentally visualize a concept, rated from (100-700)"
   ]
  },
  {
   "cell_type": "markdown",
   "metadata": {},
   "source": [
    "# Demo 1: Language Family Statistics"
   ]
  },
  {
   "cell_type": "markdown",
   "metadata": {},
   "source": [
    "First, let's explore how many unique languages we have in our dataset."
   ]
  },
  {
   "cell_type": "code",
   "execution_count": 3,
   "metadata": {
    "ExecuteTime": {
     "end_time": "2023-11-13T17:37:53.420371800Z",
     "start_time": "2023-11-13T17:37:53.310035200Z"
    }
   },
   "outputs": [
    {
     "name": "stdout",
     "output_type": "stream",
     "text": [
      "Number of unique languages: 3050\n"
     ]
    }
   ],
   "source": [
    "num_languages = df['variety'].nunique()\n",
    "print(f\"Number of unique languages: {num_languages}\")"
   ]
  },
  {
   "cell_type": "markdown",
   "metadata": {},
   "source": [
    "Now, let's explore how many language families we have in our dataset."
   ]
  },
  {
   "cell_type": "code",
   "execution_count": 4,
   "metadata": {
    "ExecuteTime": {
     "end_time": "2023-11-13T17:37:53.502635700Z",
     "start_time": "2023-11-13T17:37:53.420371800Z"
    }
   },
   "outputs": [
    {
     "name": "stdout",
     "output_type": "stream",
     "text": [
      "Number of unique language families: 201\n"
     ]
    }
   ],
   "source": [
    "num_language_families = df['family'].nunique()\n",
    "print(f\"Number of unique language families: {num_language_families}\")"
   ]
  },
  {
   "cell_type": "markdown",
   "metadata": {},
   "source": [
    "Now, let's explore how many languages each family has. "
   ]
  },
  {
   "cell_type": "code",
   "execution_count": 5,
   "metadata": {
    "ExecuteTime": {
     "end_time": "2023-11-13T17:37:53.729112200Z",
     "start_time": "2023-11-13T17:37:53.504323700Z"
    }
   },
   "outputs": [
    {
     "data": {
      "text/plain": "family\nAbkhaz-Adyge     2699\nAbun              158\nAfro-Asiatic    39787\nAikanã            280\nAinu              911\n                ...  \nYukaghir         1733\nYuracaré            7\nYámana            715\nZamucoan         1405\nZuni              981\nName: variety, Length: 201, dtype: int64"
     },
     "execution_count": 5,
     "metadata": {},
     "output_type": "execute_result"
    }
   ],
   "source": [
    "num_languages_per_family = df.groupby(\"family\")['variety'].count()\n",
    "num_languages_per_family"
   ]
  },
  {
   "cell_type": "markdown",
   "metadata": {},
   "source": [
    "In the table above, we see that the Afro-Asiatic language family has 39787 \"languages\". However, we only have 3050 languages total, so we know that this isn't possible. This demonstrates the difference between the ``df.count`` aggregator and the ``df.nunique`` aggregator. Here, we want the latter."
   ]
  },
  {
   "cell_type": "code",
   "execution_count": 6,
   "metadata": {
    "ExecuteTime": {
     "end_time": "2023-11-13T17:37:54.481489800Z",
     "start_time": "2023-11-13T17:37:53.709788200Z"
    }
   },
   "outputs": [
    {
     "data": {
      "text/plain": "family\nAbkhaz-Adyge     5\nAbun             4\nAfro-Asiatic    72\nAikanã           1\nAinu             1\n                ..\nYukaghir         2\nYuracaré         1\nYámana           1\nZamucoan         1\nZuni             1\nName: variety, Length: 201, dtype: int64"
     },
     "execution_count": 6,
     "metadata": {},
     "output_type": "execute_result"
    }
   ],
   "source": [
    "num_languages_per_family = df.groupby(\"family\")['variety'].nunique()\n",
    "num_languages_per_family"
   ]
  },
  {
   "cell_type": "markdown",
   "metadata": {},
   "source": [
    "We see now that the number of languages per group is a lot more sensible. Finally, let's say we want the language family with the largest number of language varieties in it. There are two ways we can do this.\n",
    "\n",
    "1. Find the greatest value in the Series, and then find the row that has the greatest value.\n",
    "2. Sort the Series and index the last row"
   ]
  },
  {
   "cell_type": "code",
   "execution_count": 7,
   "metadata": {
    "ExecuteTime": {
     "end_time": "2023-11-13T17:37:54.500127Z",
     "start_time": "2023-11-13T17:37:54.479719Z"
    }
   },
   "outputs": [
    {
     "data": {
      "text/plain": "family\nNuclear Trans New Guinea    560\nName: variety, dtype: int64"
     },
     "execution_count": 7,
     "metadata": {},
     "output_type": "execute_result"
    }
   ],
   "source": [
    "# Method 1\n",
    "max_val = num_languages_per_family.max()\n",
    "num_languages_per_family[num_languages_per_family == max_val]"
   ]
  },
  {
   "cell_type": "code",
   "execution_count": 8,
   "metadata": {
    "ExecuteTime": {
     "end_time": "2023-11-13T17:37:54.556706700Z",
     "start_time": "2023-11-13T17:37:54.507111900Z"
    }
   },
   "outputs": [
    {
     "data": {
      "text/plain": "family\nNuclear Trans New Guinea    560\nName: variety, dtype: int64"
     },
     "execution_count": 8,
     "metadata": {},
     "output_type": "execute_result"
    }
   ],
   "source": [
    "# Method 2\n",
    "sorted_data = num_languages_per_family.sort_values()\n",
    "sorted_data.tail(1)"
   ]
  },
  {
   "cell_type": "markdown",
   "metadata": {},
   "source": [
    "# Demo 2: Extracting Colexified Concept Counts\n",
    "\n",
    "Below, we detail in a step-by-step fashion exactly how we can compute the number of languages where a particular pair of concepts are referred to by the same word (i.e., the number of concepts where two languages are **colexified**). In the example below, each step is spelled out explicitly for ease of processing. Feel free to try optimizing this code using ``numpy`` or ``pandas`` operations to make it run faster.\n",
    "\n",
    "Below, we go through the main loop line by line to help you understand the operations."
   ]
  },
  {
   "cell_type": "markdown",
   "metadata": {},
   "source": [
    "**Step 1**: Let's arbitrarily work with the language *Miji Nafra*. First, we can find all rows in our dataset associated with the language variety."
   ]
  },
  {
   "cell_type": "code",
   "execution_count": 9,
   "metadata": {
    "ExecuteTime": {
     "end_time": "2023-11-13T17:37:54.630922800Z",
     "start_time": "2023-11-13T17:37:54.513126600Z"
    }
   },
   "outputs": [],
   "source": [
    "variety = 'Miji Nafra'\n",
    "curr_language = df[df['variety'] == variety]"
   ]
  },
  {
   "cell_type": "markdown",
   "metadata": {},
   "source": [
    "**Step 2**: We can group by the word (``clics_form``) to see if certain words are attached to multiple concepts. For each word, calculate how many concepts it is attached to.\n",
    "\n",
    "In the example below, we see that there are three word forms that each have three concepts attached to them. For instance, the form **lu** can be used to refer to the concept of the *month*, the *moon*, and *salt*. The colexification between the *month* and the *moon* is one we will later see to be quite common."
   ]
  },
  {
   "cell_type": "code",
   "execution_count": 10,
   "metadata": {
    "ExecuteTime": {
     "end_time": "2023-11-13T17:37:54.716877500Z",
     "start_time": "2023-11-13T17:37:54.606474500Z"
    }
   },
   "outputs": [
    {
     "data": {
      "text/plain": "                                     concepticon_gloss      concepticon_id  \\\nclics_form                                                                   \nabo                                           [FATHER]              [1217]   \nne                                    [YOUNGER SISTER]              [1761]   \nneipung                                         [ROOF]               [769]   \nnesi                                           [BROOM]               [245]   \nnibiung                                         [NOSE]              [1221]   \n...                                                ...                 ...   \ndzuo                                        [PIG, EAR]        [1337, 1247]   \nm@ni                                       [NEAR, BAD]        [1942, 1292]   \nlu                                 [MONTH, MOON, SALT]  [1370, 1313, 1274]   \nm@r@n                              [RIPE, ROTTEN, FAR]   [178, 1728, 1406]   \nni          [KNOW (SOMETHING), THOU, THOU (HONORIFIC)]  [1410, 1215, 3292]   \n\n            num_concepts  \nclics_form                \nabo                    1  \nne                     1  \nneipung                1  \nnesi                   1  \nnibiung                1  \n...                  ...  \ndzuo                   2  \nm@ni                   2  \nlu                     3  \nm@r@n                  3  \nni                     3  \n\n[280 rows x 3 columns]",
      "text/html": "<div>\n<style scoped>\n    .dataframe tbody tr th:only-of-type {\n        vertical-align: middle;\n    }\n\n    .dataframe tbody tr th {\n        vertical-align: top;\n    }\n\n    .dataframe thead th {\n        text-align: right;\n    }\n</style>\n<table border=\"1\" class=\"dataframe\">\n  <thead>\n    <tr style=\"text-align: right;\">\n      <th></th>\n      <th>concepticon_gloss</th>\n      <th>concepticon_id</th>\n      <th>num_concepts</th>\n    </tr>\n    <tr>\n      <th>clics_form</th>\n      <th></th>\n      <th></th>\n      <th></th>\n    </tr>\n  </thead>\n  <tbody>\n    <tr>\n      <th>abo</th>\n      <td>[FATHER]</td>\n      <td>[1217]</td>\n      <td>1</td>\n    </tr>\n    <tr>\n      <th>ne</th>\n      <td>[YOUNGER SISTER]</td>\n      <td>[1761]</td>\n      <td>1</td>\n    </tr>\n    <tr>\n      <th>neipung</th>\n      <td>[ROOF]</td>\n      <td>[769]</td>\n      <td>1</td>\n    </tr>\n    <tr>\n      <th>nesi</th>\n      <td>[BROOM]</td>\n      <td>[245]</td>\n      <td>1</td>\n    </tr>\n    <tr>\n      <th>nibiung</th>\n      <td>[NOSE]</td>\n      <td>[1221]</td>\n      <td>1</td>\n    </tr>\n    <tr>\n      <th>...</th>\n      <td>...</td>\n      <td>...</td>\n      <td>...</td>\n    </tr>\n    <tr>\n      <th>dzuo</th>\n      <td>[PIG, EAR]</td>\n      <td>[1337, 1247]</td>\n      <td>2</td>\n    </tr>\n    <tr>\n      <th>m@ni</th>\n      <td>[NEAR, BAD]</td>\n      <td>[1942, 1292]</td>\n      <td>2</td>\n    </tr>\n    <tr>\n      <th>lu</th>\n      <td>[MONTH, MOON, SALT]</td>\n      <td>[1370, 1313, 1274]</td>\n      <td>3</td>\n    </tr>\n    <tr>\n      <th>m@r@n</th>\n      <td>[RIPE, ROTTEN, FAR]</td>\n      <td>[178, 1728, 1406]</td>\n      <td>3</td>\n    </tr>\n    <tr>\n      <th>ni</th>\n      <td>[KNOW (SOMETHING), THOU, THOU (HONORIFIC)]</td>\n      <td>[1410, 1215, 3292]</td>\n      <td>3</td>\n    </tr>\n  </tbody>\n</table>\n<p>280 rows × 3 columns</p>\n</div>"
     },
     "execution_count": 10,
     "metadata": {},
     "output_type": "execute_result"
    }
   ],
   "source": [
    "agg = curr_language.groupby(\"clics_form\")[['concepticon_gloss', 'concepticon_id']].agg(list)\n",
    "agg['num_concepts'] = agg['concepticon_gloss'].apply(lambda x: len(set(x)))\n",
    "agg.sort_values(by='num_concepts')"
   ]
  },
  {
   "cell_type": "markdown",
   "metadata": {},
   "source": [
    "**Step 3**: To investigate colexification, we are only interested in the words that refer to multiple concepts in our current language of interest.  For ease of processing later, we can alphabetize the concepts as well."
   ]
  },
  {
   "cell_type": "code",
   "execution_count": 11,
   "metadata": {
    "ExecuteTime": {
     "end_time": "2023-11-13T17:37:54.725539900Z",
     "start_time": "2023-11-13T17:37:54.663369300Z"
    }
   },
   "outputs": [
    {
     "data": {
      "text/plain": "                                     concepticon_gloss      concepticon_id  \\\nclics_form                                                                   \nani                                       [MOTHER, WE]        [1216, 1212]   \ndai                                         [GO, WALK]         [695, 1443]   \ndzim@sung                       [YOU, YOU (HONORIFIC)]        [1213, 3293]   \ndzo                                         [SUN, TIE]        [1343, 1917]   \ndzu                                        [SING, SIT]        [1261, 1416]   \ndzuo                                        [EAR, PIG]        [1337, 1247]   \nlembang                                   [PATH, ROAD]         [2252, 667]   \nlu                                 [MONTH, MOON, SALT]  [1370, 1313, 1274]   \nm@dzo                                   [FRIEND, WASH]        [1453, 1325]   \nm@ni                                       [BAD, NEAR]        [1942, 1292]   \nm@r@n                              [FAR, RIPE, ROTTEN]   [178, 1728, 1406]   \nmezu                                   [NARROW, SMALL]        [1267, 1246]   \nni          [KNOW (SOMETHING), THOU, THOU (HONORIFIC)]  [1410, 1215, 3292]   \n\n            num_concepts  \nclics_form                \nani                    2  \ndai                    2  \ndzim@sung              2  \ndzo                    2  \ndzu                    2  \ndzuo                   2  \nlembang                2  \nlu                     3  \nm@dzo                  2  \nm@ni                   2  \nm@r@n                  3  \nmezu                   2  \nni                     3  ",
      "text/html": "<div>\n<style scoped>\n    .dataframe tbody tr th:only-of-type {\n        vertical-align: middle;\n    }\n\n    .dataframe tbody tr th {\n        vertical-align: top;\n    }\n\n    .dataframe thead th {\n        text-align: right;\n    }\n</style>\n<table border=\"1\" class=\"dataframe\">\n  <thead>\n    <tr style=\"text-align: right;\">\n      <th></th>\n      <th>concepticon_gloss</th>\n      <th>concepticon_id</th>\n      <th>num_concepts</th>\n    </tr>\n    <tr>\n      <th>clics_form</th>\n      <th></th>\n      <th></th>\n      <th></th>\n    </tr>\n  </thead>\n  <tbody>\n    <tr>\n      <th>ani</th>\n      <td>[MOTHER, WE]</td>\n      <td>[1216, 1212]</td>\n      <td>2</td>\n    </tr>\n    <tr>\n      <th>dai</th>\n      <td>[GO, WALK]</td>\n      <td>[695, 1443]</td>\n      <td>2</td>\n    </tr>\n    <tr>\n      <th>dzim@sung</th>\n      <td>[YOU, YOU (HONORIFIC)]</td>\n      <td>[1213, 3293]</td>\n      <td>2</td>\n    </tr>\n    <tr>\n      <th>dzo</th>\n      <td>[SUN, TIE]</td>\n      <td>[1343, 1917]</td>\n      <td>2</td>\n    </tr>\n    <tr>\n      <th>dzu</th>\n      <td>[SING, SIT]</td>\n      <td>[1261, 1416]</td>\n      <td>2</td>\n    </tr>\n    <tr>\n      <th>dzuo</th>\n      <td>[EAR, PIG]</td>\n      <td>[1337, 1247]</td>\n      <td>2</td>\n    </tr>\n    <tr>\n      <th>lembang</th>\n      <td>[PATH, ROAD]</td>\n      <td>[2252, 667]</td>\n      <td>2</td>\n    </tr>\n    <tr>\n      <th>lu</th>\n      <td>[MONTH, MOON, SALT]</td>\n      <td>[1370, 1313, 1274]</td>\n      <td>3</td>\n    </tr>\n    <tr>\n      <th>m@dzo</th>\n      <td>[FRIEND, WASH]</td>\n      <td>[1453, 1325]</td>\n      <td>2</td>\n    </tr>\n    <tr>\n      <th>m@ni</th>\n      <td>[BAD, NEAR]</td>\n      <td>[1942, 1292]</td>\n      <td>2</td>\n    </tr>\n    <tr>\n      <th>m@r@n</th>\n      <td>[FAR, RIPE, ROTTEN]</td>\n      <td>[178, 1728, 1406]</td>\n      <td>3</td>\n    </tr>\n    <tr>\n      <th>mezu</th>\n      <td>[NARROW, SMALL]</td>\n      <td>[1267, 1246]</td>\n      <td>2</td>\n    </tr>\n    <tr>\n      <th>ni</th>\n      <td>[KNOW (SOMETHING), THOU, THOU (HONORIFIC)]</td>\n      <td>[1410, 1215, 3292]</td>\n      <td>3</td>\n    </tr>\n  </tbody>\n</table>\n</div>"
     },
     "execution_count": 11,
     "metadata": {},
     "output_type": "execute_result"
    }
   ],
   "source": [
    "colex = agg[agg['num_concepts']>1]\n",
    "colex['concepticon_gloss'] = colex['concepticon_gloss'].apply(lambda x: sorted(list(set(x))))\n",
    "colex"
   ]
  },
  {
   "cell_type": "markdown",
   "metadata": {},
   "source": [
    "**Step 4:**: For our current language variety, we now need to record all pairs of concepts that are colexified. Referring back to the case of *month*, *moon*, and *salt*, we want to record that the pairs (month, moon), (moon, salt), and (month, salt) are all attested colexified pairs. We can do so by making a call to the function ``per_lang_colexification``. Details for the function can be found below, in the comments."
   ]
  },
  {
   "cell_type": "code",
   "execution_count": 12,
   "metadata": {
    "ExecuteTime": {
     "end_time": "2023-11-13T17:37:54.768236100Z",
     "start_time": "2023-11-13T17:37:54.697816600Z"
    }
   },
   "outputs": [],
   "source": [
    "def per_lang_colexification(curr_df):\n",
    "    \"\"\"\n",
    "    Calculate the colexification frequency of pairs of concepts present in the current language.\n",
    "    \"\"\"\n",
    "    all_combos_dict = {}\n",
    "    # We iterate through each row, which has the concepts associated with a specific word\n",
    "    for i, row in curr_df.iterrows():\n",
    "        # Get the current set of concepts\n",
    "        a = row['concepticon_gloss']\n",
    "        # Create all possible unique combinations of concepts, where each pair is alphabetically sorted\n",
    "        combos = list(set(map(lambda x: tuple(sorted(x)), product(a, a))))\n",
    "        # Ensure the concepts in the pair are not identical\n",
    "        combos = [combo for combo in combos if combo[0] != combo[1]]\n",
    "        # Add counts for a pair of combinations being colexified\n",
    "        for combo in combos:\n",
    "            if combo in all_combos_dict:\n",
    "                all_combos_dict[combo] += 1\n",
    "            else:\n",
    "                all_combos_dict[combo] = 1\n",
    "\n",
    "    # Create a DataFrame out of our dictionary and return the colexification counts for two concepts\n",
    "    tmp = pd.DataFrame.from_dict(all_combos_dict, \"index\").reset_index()\n",
    "    per_lang = pd.DataFrame(tmp['index'].tolist(), columns=['concept_1', \"concept_2\"])\n",
    "    per_lang['colexification_count'] = tmp[0]\n",
    "    return per_lang"
   ]
  },
  {
   "cell_type": "code",
   "execution_count": 13,
   "metadata": {
    "ExecuteTime": {
     "end_time": "2023-11-13T17:37:54.844059200Z",
     "start_time": "2023-11-13T17:37:54.701223200Z"
    }
   },
   "outputs": [
    {
     "data": {
      "text/plain": "           concept_1         concept_2  colexification_count\n0             MOTHER                WE                     1\n1                 GO              WALK                     1\n2                YOU   YOU (HONORIFIC)                     1\n3                SUN               TIE                     1\n4               SING               SIT                     1\n5                EAR               PIG                     1\n6               PATH              ROAD                     1\n7              MONTH              SALT                     1\n8               MOON              SALT                     1\n9              MONTH              MOON                     1\n10            FRIEND              WASH                     1\n11               BAD              NEAR                     1\n12              RIPE            ROTTEN                     1\n13               FAR            ROTTEN                     1\n14               FAR              RIPE                     1\n15            NARROW             SMALL                     1\n16  KNOW (SOMETHING)  THOU (HONORIFIC)                     1\n17              THOU  THOU (HONORIFIC)                     1\n18  KNOW (SOMETHING)              THOU                     1",
      "text/html": "<div>\n<style scoped>\n    .dataframe tbody tr th:only-of-type {\n        vertical-align: middle;\n    }\n\n    .dataframe tbody tr th {\n        vertical-align: top;\n    }\n\n    .dataframe thead th {\n        text-align: right;\n    }\n</style>\n<table border=\"1\" class=\"dataframe\">\n  <thead>\n    <tr style=\"text-align: right;\">\n      <th></th>\n      <th>concept_1</th>\n      <th>concept_2</th>\n      <th>colexification_count</th>\n    </tr>\n  </thead>\n  <tbody>\n    <tr>\n      <th>0</th>\n      <td>MOTHER</td>\n      <td>WE</td>\n      <td>1</td>\n    </tr>\n    <tr>\n      <th>1</th>\n      <td>GO</td>\n      <td>WALK</td>\n      <td>1</td>\n    </tr>\n    <tr>\n      <th>2</th>\n      <td>YOU</td>\n      <td>YOU (HONORIFIC)</td>\n      <td>1</td>\n    </tr>\n    <tr>\n      <th>3</th>\n      <td>SUN</td>\n      <td>TIE</td>\n      <td>1</td>\n    </tr>\n    <tr>\n      <th>4</th>\n      <td>SING</td>\n      <td>SIT</td>\n      <td>1</td>\n    </tr>\n    <tr>\n      <th>5</th>\n      <td>EAR</td>\n      <td>PIG</td>\n      <td>1</td>\n    </tr>\n    <tr>\n      <th>6</th>\n      <td>PATH</td>\n      <td>ROAD</td>\n      <td>1</td>\n    </tr>\n    <tr>\n      <th>7</th>\n      <td>MONTH</td>\n      <td>SALT</td>\n      <td>1</td>\n    </tr>\n    <tr>\n      <th>8</th>\n      <td>MOON</td>\n      <td>SALT</td>\n      <td>1</td>\n    </tr>\n    <tr>\n      <th>9</th>\n      <td>MONTH</td>\n      <td>MOON</td>\n      <td>1</td>\n    </tr>\n    <tr>\n      <th>10</th>\n      <td>FRIEND</td>\n      <td>WASH</td>\n      <td>1</td>\n    </tr>\n    <tr>\n      <th>11</th>\n      <td>BAD</td>\n      <td>NEAR</td>\n      <td>1</td>\n    </tr>\n    <tr>\n      <th>12</th>\n      <td>RIPE</td>\n      <td>ROTTEN</td>\n      <td>1</td>\n    </tr>\n    <tr>\n      <th>13</th>\n      <td>FAR</td>\n      <td>ROTTEN</td>\n      <td>1</td>\n    </tr>\n    <tr>\n      <th>14</th>\n      <td>FAR</td>\n      <td>RIPE</td>\n      <td>1</td>\n    </tr>\n    <tr>\n      <th>15</th>\n      <td>NARROW</td>\n      <td>SMALL</td>\n      <td>1</td>\n    </tr>\n    <tr>\n      <th>16</th>\n      <td>KNOW (SOMETHING)</td>\n      <td>THOU (HONORIFIC)</td>\n      <td>1</td>\n    </tr>\n    <tr>\n      <th>17</th>\n      <td>THOU</td>\n      <td>THOU (HONORIFIC)</td>\n      <td>1</td>\n    </tr>\n    <tr>\n      <th>18</th>\n      <td>KNOW (SOMETHING)</td>\n      <td>THOU</td>\n      <td>1</td>\n    </tr>\n  </tbody>\n</table>\n</div>"
     },
     "execution_count": 13,
     "metadata": {},
     "output_type": "execute_result"
    }
   ],
   "source": [
    "recorded_pairs = per_lang_colexification(colex)\n",
    "recorded_pairs"
   ]
  },
  {
   "cell_type": "markdown",
   "metadata": {},
   "source": [
    "**Step 5**: Repeat this analysis for each other language variety we have available, and add to the records of attested colexified concept pairs. Below, we show what this would look like for a second language, *Bugun Bichom*. Our output shows that in both languages, the concepts of *moon* and *month* are colexified."
   ]
  },
  {
   "cell_type": "code",
   "execution_count": 14,
   "metadata": {
    "ExecuteTime": {
     "end_time": "2023-11-13T17:37:55.006183600Z",
     "start_time": "2023-11-13T17:37:54.811318500Z"
    }
   },
   "outputs": [
    {
     "data": {
      "text/plain": "            concept_1         concept_2  colexification_count\n0                BACK            SPIDER                     1\n27  SWEAT (SUBSTANCE)               WHO                     1\n26                SUN               TIE                     1\n25               SING               SIT                     1\n24               RIPE            ROTTEN                     1\n23               PATH              ROAD                     1\n22             NARROW             SMALL                     1\n21             MOTHER                WE                     1\n20               MOON              SALT                     1\n19              MONTH              SALT                     1\n17               MILK              WHAT                     1\n16             MIDDAY               SUN                     1\n15               LONG             SWEET                     1\n14               LEAF               SIX                     1\n12   KNOW (SOMETHING)              THOU                     1\n11                 GO              WALK                     1\n10               FROG               SIX                     1\n9                FROG              LEAF                     1\n8              FRIEND              WASH                     1\n7                FOOT              FULL                     1\n6                 FAR            ROTTEN                     1\n5                 FAR              RIPE                     1\n4                 EAR               PIG                     1\n3                 BOW              FROG                     1\n2              BITTER             WATER                     1\n1                 BAD              NEAR                     1\n13   KNOW (SOMETHING)  THOU (HONORIFIC)                     1\n28               THOU  THOU (HONORIFIC)                     2\n18              MONTH              MOON                     2\n29                YOU   YOU (HONORIFIC)                     2",
      "text/html": "<div>\n<style scoped>\n    .dataframe tbody tr th:only-of-type {\n        vertical-align: middle;\n    }\n\n    .dataframe tbody tr th {\n        vertical-align: top;\n    }\n\n    .dataframe thead th {\n        text-align: right;\n    }\n</style>\n<table border=\"1\" class=\"dataframe\">\n  <thead>\n    <tr style=\"text-align: right;\">\n      <th></th>\n      <th>concept_1</th>\n      <th>concept_2</th>\n      <th>colexification_count</th>\n    </tr>\n  </thead>\n  <tbody>\n    <tr>\n      <th>0</th>\n      <td>BACK</td>\n      <td>SPIDER</td>\n      <td>1</td>\n    </tr>\n    <tr>\n      <th>27</th>\n      <td>SWEAT (SUBSTANCE)</td>\n      <td>WHO</td>\n      <td>1</td>\n    </tr>\n    <tr>\n      <th>26</th>\n      <td>SUN</td>\n      <td>TIE</td>\n      <td>1</td>\n    </tr>\n    <tr>\n      <th>25</th>\n      <td>SING</td>\n      <td>SIT</td>\n      <td>1</td>\n    </tr>\n    <tr>\n      <th>24</th>\n      <td>RIPE</td>\n      <td>ROTTEN</td>\n      <td>1</td>\n    </tr>\n    <tr>\n      <th>23</th>\n      <td>PATH</td>\n      <td>ROAD</td>\n      <td>1</td>\n    </tr>\n    <tr>\n      <th>22</th>\n      <td>NARROW</td>\n      <td>SMALL</td>\n      <td>1</td>\n    </tr>\n    <tr>\n      <th>21</th>\n      <td>MOTHER</td>\n      <td>WE</td>\n      <td>1</td>\n    </tr>\n    <tr>\n      <th>20</th>\n      <td>MOON</td>\n      <td>SALT</td>\n      <td>1</td>\n    </tr>\n    <tr>\n      <th>19</th>\n      <td>MONTH</td>\n      <td>SALT</td>\n      <td>1</td>\n    </tr>\n    <tr>\n      <th>17</th>\n      <td>MILK</td>\n      <td>WHAT</td>\n      <td>1</td>\n    </tr>\n    <tr>\n      <th>16</th>\n      <td>MIDDAY</td>\n      <td>SUN</td>\n      <td>1</td>\n    </tr>\n    <tr>\n      <th>15</th>\n      <td>LONG</td>\n      <td>SWEET</td>\n      <td>1</td>\n    </tr>\n    <tr>\n      <th>14</th>\n      <td>LEAF</td>\n      <td>SIX</td>\n      <td>1</td>\n    </tr>\n    <tr>\n      <th>12</th>\n      <td>KNOW (SOMETHING)</td>\n      <td>THOU</td>\n      <td>1</td>\n    </tr>\n    <tr>\n      <th>11</th>\n      <td>GO</td>\n      <td>WALK</td>\n      <td>1</td>\n    </tr>\n    <tr>\n      <th>10</th>\n      <td>FROG</td>\n      <td>SIX</td>\n      <td>1</td>\n    </tr>\n    <tr>\n      <th>9</th>\n      <td>FROG</td>\n      <td>LEAF</td>\n      <td>1</td>\n    </tr>\n    <tr>\n      <th>8</th>\n      <td>FRIEND</td>\n      <td>WASH</td>\n      <td>1</td>\n    </tr>\n    <tr>\n      <th>7</th>\n      <td>FOOT</td>\n      <td>FULL</td>\n      <td>1</td>\n    </tr>\n    <tr>\n      <th>6</th>\n      <td>FAR</td>\n      <td>ROTTEN</td>\n      <td>1</td>\n    </tr>\n    <tr>\n      <th>5</th>\n      <td>FAR</td>\n      <td>RIPE</td>\n      <td>1</td>\n    </tr>\n    <tr>\n      <th>4</th>\n      <td>EAR</td>\n      <td>PIG</td>\n      <td>1</td>\n    </tr>\n    <tr>\n      <th>3</th>\n      <td>BOW</td>\n      <td>FROG</td>\n      <td>1</td>\n    </tr>\n    <tr>\n      <th>2</th>\n      <td>BITTER</td>\n      <td>WATER</td>\n      <td>1</td>\n    </tr>\n    <tr>\n      <th>1</th>\n      <td>BAD</td>\n      <td>NEAR</td>\n      <td>1</td>\n    </tr>\n    <tr>\n      <th>13</th>\n      <td>KNOW (SOMETHING)</td>\n      <td>THOU (HONORIFIC)</td>\n      <td>1</td>\n    </tr>\n    <tr>\n      <th>28</th>\n      <td>THOU</td>\n      <td>THOU (HONORIFIC)</td>\n      <td>2</td>\n    </tr>\n    <tr>\n      <th>18</th>\n      <td>MONTH</td>\n      <td>MOON</td>\n      <td>2</td>\n    </tr>\n    <tr>\n      <th>29</th>\n      <td>YOU</td>\n      <td>YOU (HONORIFIC)</td>\n      <td>2</td>\n    </tr>\n  </tbody>\n</table>\n</div>"
     },
     "execution_count": 14,
     "metadata": {},
     "output_type": "execute_result"
    }
   ],
   "source": [
    "variety = 'Bugun Bichom'\n",
    "curr_language = df[df['variety'] == variety]\n",
    "agg = curr_language.groupby(\"clics_form\")[['concepticon_gloss', 'concepticon_id']].agg(list)\n",
    "agg['num_concepts'] = agg['concepticon_gloss'].apply(lambda x: len(set(x)))\n",
    "agg.sort_values(by='num_concepts')\n",
    "colex = agg[agg['num_concepts']>1]\n",
    "colex['concepticon_gloss'] = colex['concepticon_gloss'].apply(lambda x: sorted(list(set(x))))\n",
    "recorded_pairs_2 = per_lang_colexification(colex)\n",
    "pd.concat((recorded_pairs, recorded_pairs_2)).groupby([\"concept_1\", \"concept_2\"]).sum().reset_index().sort_values(by='colexification_count')"
   ]
  },
  {
   "cell_type": "markdown",
   "metadata": {},
   "source": [
    "# Main Loop\n",
    "The code below synthesizes everything we covered so far into one main loop. The code should take between 5-10 minutes to run, but this may vary based on your individual computer."
   ]
  },
  {
   "cell_type": "code",
   "execution_count": 15,
   "metadata": {
    "ExecuteTime": {
     "end_time": "2023-11-13T17:37:55.017706200Z",
     "start_time": "2023-11-13T17:37:54.870886300Z"
    }
   },
   "outputs": [],
   "source": [
    "def main():\n",
    "    all_dfs = []\n",
    "    for variety in tqdm(df['variety'].unique()):\n",
    "        sub = df[df['variety'] == variety]\n",
    "        agg = sub.groupby(\"clics_form\")[['concepticon_gloss', 'concepticon_id']].agg(list)\n",
    "        agg['num_concepts'] = agg['concepticon_gloss'].apply(lambda x: len(set(x)))\n",
    "        colex = agg[agg['num_concepts']>1]\n",
    "        colex['concepticon_gloss'] = colex['concepticon_gloss'].apply(lambda x: sorted(list(set(x))))\n",
    "        # We skip any language where no concepts are colexified\n",
    "        if colex.shape[0] == 0:\n",
    "            continue\n",
    "        curr_df = per_lang_colexification(colex)\n",
    "        all_dfs.append(curr_df)\n",
    "    mega = pd.concat(all_dfs)\n",
    "    colex_counts = mega.groupby([\"concept_1\", \"concept_2\"]).sum().reset_index()\n",
    "    return colex_counts"
   ]
  },
  {
   "cell_type": "code",
   "execution_count": 16,
   "metadata": {
    "ExecuteTime": {
     "end_time": "2023-11-13T17:42:38.147947Z",
     "start_time": "2023-11-13T17:37:54.885561500Z"
    }
   },
   "outputs": [
    {
     "name": "stderr",
     "output_type": "stream",
     "text": [
      "100%|██████████| 3050/3050 [04:42<00:00, 10.79it/s]\n"
     ]
    }
   ],
   "source": [
    "colex_counts = main()"
   ]
  },
  {
   "cell_type": "markdown",
   "metadata": {},
   "source": [
    "We see that concepts like (tree, wood), (foot, leg), and (month, moon) commonly colexify with each other."
   ]
  },
  {
   "cell_type": "code",
   "execution_count": 17,
   "metadata": {
    "ExecuteTime": {
     "end_time": "2023-11-13T17:42:38.258873300Z",
     "start_time": "2023-11-13T17:42:38.138587500Z"
    }
   },
   "outputs": [
    {
     "data": {
      "text/plain": "      concept_1     concept_2  colexification_count\n0      A LITTLE           FEW                     1\n46054      GROW          LAKE                     1\n46055      GROW         LAUGH                     1\n46056      GROW  LEAD (GUIDE)                     1\n46057      GROW      LIE DOWN                     1\n...         ...           ...                   ...\n74236      WIFE         WOMAN                   302\n58509     MONTH          MOON                   328\n44184        GO          WALK                   336\n41201      FOOT           LEG                   354\n73687      TREE          WOOD                   356\n\n[74330 rows x 3 columns]",
      "text/html": "<div>\n<style scoped>\n    .dataframe tbody tr th:only-of-type {\n        vertical-align: middle;\n    }\n\n    .dataframe tbody tr th {\n        vertical-align: top;\n    }\n\n    .dataframe thead th {\n        text-align: right;\n    }\n</style>\n<table border=\"1\" class=\"dataframe\">\n  <thead>\n    <tr style=\"text-align: right;\">\n      <th></th>\n      <th>concept_1</th>\n      <th>concept_2</th>\n      <th>colexification_count</th>\n    </tr>\n  </thead>\n  <tbody>\n    <tr>\n      <th>0</th>\n      <td>A LITTLE</td>\n      <td>FEW</td>\n      <td>1</td>\n    </tr>\n    <tr>\n      <th>46054</th>\n      <td>GROW</td>\n      <td>LAKE</td>\n      <td>1</td>\n    </tr>\n    <tr>\n      <th>46055</th>\n      <td>GROW</td>\n      <td>LAUGH</td>\n      <td>1</td>\n    </tr>\n    <tr>\n      <th>46056</th>\n      <td>GROW</td>\n      <td>LEAD (GUIDE)</td>\n      <td>1</td>\n    </tr>\n    <tr>\n      <th>46057</th>\n      <td>GROW</td>\n      <td>LIE DOWN</td>\n      <td>1</td>\n    </tr>\n    <tr>\n      <th>...</th>\n      <td>...</td>\n      <td>...</td>\n      <td>...</td>\n    </tr>\n    <tr>\n      <th>74236</th>\n      <td>WIFE</td>\n      <td>WOMAN</td>\n      <td>302</td>\n    </tr>\n    <tr>\n      <th>58509</th>\n      <td>MONTH</td>\n      <td>MOON</td>\n      <td>328</td>\n    </tr>\n    <tr>\n      <th>44184</th>\n      <td>GO</td>\n      <td>WALK</td>\n      <td>336</td>\n    </tr>\n    <tr>\n      <th>41201</th>\n      <td>FOOT</td>\n      <td>LEG</td>\n      <td>354</td>\n    </tr>\n    <tr>\n      <th>73687</th>\n      <td>TREE</td>\n      <td>WOOD</td>\n      <td>356</td>\n    </tr>\n  </tbody>\n</table>\n<p>74330 rows × 3 columns</p>\n</div>"
     },
     "execution_count": 17,
     "metadata": {},
     "output_type": "execute_result"
    }
   ],
   "source": [
    "colex_counts.sort_values(by='colexification_count')"
   ]
  }
 ],
 "metadata": {
  "kernelspec": {
   "display_name": "Python 3",
   "language": "python",
   "name": "python3"
  },
  "language_info": {
   "codemirror_mode": {
    "name": "ipython",
    "version": 3
   },
   "file_extension": ".py",
   "mimetype": "text/x-python",
   "name": "python",
   "nbconvert_exporter": "python",
   "pygments_lexer": "ipython3",
   "version": "3.6.2"
  }
 },
 "nbformat": 4,
 "nbformat_minor": 2
}
