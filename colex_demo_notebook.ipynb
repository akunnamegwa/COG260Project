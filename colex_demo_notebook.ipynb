{
 "cells": [
  {
   "cell_type": "markdown",
   "metadata": {},
   "source": [
    "# Initial Executable Notebook for COG260 Project\n",
    "\n",
    "Data source: https://osf.io/hjvm5/\n",
    "\n",
    "Paper: https://psyarxiv.com/efs4p/"
   ]
  },
  {
   "cell_type": "markdown",
   "metadata": {},
   "source": [
    "Import relevant Python libraries."
   ]
  },
  {
   "cell_type": "code",
   "execution_count": 39,
   "metadata": {},
   "outputs": [],
   "source": [
    "import numpy as np\n",
    "import pandas as pd\n",
    "# the library below is useful for estimating the progress of a for loop\n",
    "# the use of tqdm will be displayed in Demo 2\n",
    "from tqdm import tqdm\n",
    "from itertools import product\n",
    "\n",
    "pd.options.mode.chained_assignment = None"
   ]
  },
  {
   "cell_type": "code",
   "execution_count": 40,
   "metadata": {},
   "outputs": [
    {
     "name": "stderr",
     "output_type": "stream",
     "text": [
      "/var/folders/5b/_w993gdd31x1z6ctz1dyfnsm0000gp/T/ipykernel_41348/2801652837.py:1: DtypeWarning: Columns (4) have mixed types. Specify dtype option on import or set low_memory=False.\n",
      "  df = pd.read_csv(\"df_all_raw.csv\")\n"
     ]
    }
   ],
   "source": [
    "df = pd.read_csv(\"df_all_raw.csv\")\n",
    "df.columns = list(map(str.lower, df.columns))\n",
    "df = df.drop(columns=['dataset_id', 'form_id', 'form', 'gloss_in_source', 'iso639p3code', 'mrc_word', 'kucera_francis_frequency'])"
   ]
  },
  {
   "cell_type": "markdown",
   "metadata": {},
   "source": [
    "# Data Fields\n",
    "\n",
    "**clics_form**: the form of the word in the language of interest\n",
    "\n",
    "**concepticon_id**: unique numerical identifier of underlying concept\n",
    "\n",
    "**concepticon_gloss**: the concept underlying the word form\n",
    "\n",
    "**ontological_category**: broad category that the concept falls into\n",
    "\n",
    "**semantic_field**: a set of words related in meaning\n",
    "\n",
    "**variety**: the language\n",
    "\n",
    "**glottocode**: unique alphanumeric identifier for the language variety\n",
    "\n",
    "**macroarea**: the part of the world the language is common in\n",
    "\n",
    "**family**: the language family of the current variety\n",
    "\n",
    "**latitude**: rough latitude where the language variety can be found\n",
    "\n",
    "**longitude**: rough latitude where the language variety can be found\n",
    "\n",
    "**age_of_acquisition**: the age at which a concept is typically learned\n",
    "\n",
    "**concreteness**: a numerical rating of how abstract or concrete a concept is, rated from (100-700)\n",
    "\n",
    "**familiarity**: a numerical rating of how familiar a concept is to the average person, rated from (100-700)\n",
    "\n",
    "**imagability**: a numerical rating of how well an average person can mentally visualize a concept, rated from (100-700)"
   ]
  },
  {
   "cell_type": "markdown",
   "metadata": {},
   "source": [
    "# Concept categorization"
   ]
  },
  {
   "cell_type": "markdown",
   "metadata": {},
   "source": [
    "First, we will visualize some of the concepticons that we will categorize as either \"abstract\" or concrete\" in tables."
   ]
  },
  {
   "cell_type": "code",
   "execution_count": 19,
   "metadata": {},
   "outputs": [
    {
     "data": {
      "text/html": [
       "<div>\n",
       "<style scoped>\n",
       "    .dataframe tbody tr th:only-of-type {\n",
       "        vertical-align: middle;\n",
       "    }\n",
       "\n",
       "    .dataframe tbody tr th {\n",
       "        vertical-align: top;\n",
       "    }\n",
       "\n",
       "    .dataframe thead th {\n",
       "        text-align: right;\n",
       "    }\n",
       "</style>\n",
       "<table border=\"1\" class=\"dataframe\">\n",
       "  <thead>\n",
       "    <tr style=\"text-align: right;\">\n",
       "      <th></th>\n",
       "      <th>concepticon_id</th>\n",
       "      <th>concepticon_gloss</th>\n",
       "      <th>concreteness</th>\n",
       "    </tr>\n",
       "  </thead>\n",
       "  <tbody>\n",
       "    <tr>\n",
       "      <th>30</th>\n",
       "      <td>1035</td>\n",
       "      <td>GOOD</td>\n",
       "      <td>297.0</td>\n",
       "    </tr>\n",
       "    <tr>\n",
       "      <th>570</th>\n",
       "      <td>98</td>\n",
       "      <td>ALL</td>\n",
       "      <td>267.0</td>\n",
       "    </tr>\n",
       "    <tr>\n",
       "      <th>651</th>\n",
       "      <td>244</td>\n",
       "      <td>LEFT</td>\n",
       "      <td>341.0</td>\n",
       "    </tr>\n",
       "    <tr>\n",
       "      <th>786</th>\n",
       "      <td>1203</td>\n",
       "      <td>LONG</td>\n",
       "      <td>381.0</td>\n",
       "    </tr>\n",
       "    <tr>\n",
       "      <th>905</th>\n",
       "      <td>1198</td>\n",
       "      <td>MANY</td>\n",
       "      <td>276.0</td>\n",
       "    </tr>\n",
       "    <tr>\n",
       "      <th>...</th>\n",
       "      <td>...</td>\n",
       "      <td>...</td>\n",
       "      <td>...</td>\n",
       "    </tr>\n",
       "    <tr>\n",
       "      <th>1303158</th>\n",
       "      <td>240</td>\n",
       "      <td>ELECTION</td>\n",
       "      <td>343.0</td>\n",
       "    </tr>\n",
       "    <tr>\n",
       "      <th>1304727</th>\n",
       "      <td>1478</td>\n",
       "      <td>WITHOUT</td>\n",
       "      <td>267.0</td>\n",
       "    </tr>\n",
       "    <tr>\n",
       "      <th>1307706</th>\n",
       "      <td>1557</td>\n",
       "      <td>BEGINNING</td>\n",
       "      <td>318.0</td>\n",
       "    </tr>\n",
       "    <tr>\n",
       "      <th>1355363</th>\n",
       "      <td>2033</td>\n",
       "      <td>DELIVER</td>\n",
       "      <td>393.0</td>\n",
       "    </tr>\n",
       "    <tr>\n",
       "      <th>1383999</th>\n",
       "      <td>2473</td>\n",
       "      <td>HIS (GENITIVE OF HE)</td>\n",
       "      <td>320.0</td>\n",
       "    </tr>\n",
       "  </tbody>\n",
       "</table>\n",
       "<p>356 rows × 3 columns</p>\n",
       "</div>"
      ],
      "text/plain": [
       "         concepticon_id     concepticon_gloss  concreteness\n",
       "30                 1035                  GOOD         297.0\n",
       "570                  98                   ALL         267.0\n",
       "651                 244                  LEFT         341.0\n",
       "786                1203                  LONG         381.0\n",
       "905                1198                  MANY         276.0\n",
       "...                 ...                   ...           ...\n",
       "1303158             240              ELECTION         343.0\n",
       "1304727            1478               WITHOUT         267.0\n",
       "1307706            1557             BEGINNING         318.0\n",
       "1355363            2033               DELIVER         393.0\n",
       "1383999            2473  HIS (GENITIVE OF HE)         320.0\n",
       "\n",
       "[356 rows x 3 columns]"
      ]
     },
     "execution_count": 19,
     "metadata": {},
     "output_type": "execute_result"
    }
   ],
   "source": [
    "abstract_cpts = df[df['concreteness'] < 400]\n",
    "abstract_cpts = abstract_concepts[[\"concepticon_id\", \"concepticon_gloss\", \"concreteness\"]].drop_duplicates()\n",
    "abstract_cpts"
   ]
  },
  {
   "cell_type": "code",
   "execution_count": 22,
   "metadata": {},
   "outputs": [
    {
     "name": "stdout",
     "output_type": "stream",
     "text": [
      "Number of unique abstract concepts: 356\n"
     ]
    }
   ],
   "source": [
    "num_abstract = abstract_cpts['concepticon_id'].nunique()\n",
    "print(f\"Number of unique abstract concepts: {num_abstract}\")"
   ]
  },
  {
   "cell_type": "code",
   "execution_count": 20,
   "metadata": {},
   "outputs": [
    {
     "data": {
      "text/html": [
       "<div>\n",
       "<style scoped>\n",
       "    .dataframe tbody tr th:only-of-type {\n",
       "        vertical-align: middle;\n",
       "    }\n",
       "\n",
       "    .dataframe tbody tr th {\n",
       "        vertical-align: top;\n",
       "    }\n",
       "\n",
       "    .dataframe thead th {\n",
       "        text-align: right;\n",
       "    }\n",
       "</style>\n",
       "<table border=\"1\" class=\"dataframe\">\n",
       "  <thead>\n",
       "    <tr style=\"text-align: right;\">\n",
       "      <th></th>\n",
       "      <th>concepticon_id</th>\n",
       "      <th>concepticon_gloss</th>\n",
       "      <th>concreteness</th>\n",
       "    </tr>\n",
       "  </thead>\n",
       "  <tbody>\n",
       "    <tr>\n",
       "      <th>0</th>\n",
       "      <td>1369</td>\n",
       "      <td>GOLD</td>\n",
       "      <td>576.0</td>\n",
       "    </tr>\n",
       "    <tr>\n",
       "      <th>60</th>\n",
       "      <td>1425</td>\n",
       "      <td>GREEN</td>\n",
       "      <td>460.0</td>\n",
       "    </tr>\n",
       "    <tr>\n",
       "      <th>122</th>\n",
       "      <td>1481</td>\n",
       "      <td>HAMMER</td>\n",
       "      <td>605.0</td>\n",
       "    </tr>\n",
       "    <tr>\n",
       "      <th>152</th>\n",
       "      <td>1277</td>\n",
       "      <td>HAND</td>\n",
       "      <td>604.0</td>\n",
       "    </tr>\n",
       "    <tr>\n",
       "      <th>182</th>\n",
       "      <td>1256</td>\n",
       "      <td>HEAD</td>\n",
       "      <td>603.0</td>\n",
       "    </tr>\n",
       "    <tr>\n",
       "      <th>...</th>\n",
       "      <td>...</td>\n",
       "      <td>...</td>\n",
       "      <td>...</td>\n",
       "    </tr>\n",
       "    <tr>\n",
       "      <th>1305965</th>\n",
       "      <td>287</td>\n",
       "      <td>CONE</td>\n",
       "      <td>573.0</td>\n",
       "    </tr>\n",
       "    <tr>\n",
       "      <th>1351537</th>\n",
       "      <td>1015</td>\n",
       "      <td>SOIL</td>\n",
       "      <td>581.0</td>\n",
       "    </tr>\n",
       "    <tr>\n",
       "      <th>1351716</th>\n",
       "      <td>637</td>\n",
       "      <td>MOSS</td>\n",
       "      <td>575.0</td>\n",
       "    </tr>\n",
       "    <tr>\n",
       "      <th>1352029</th>\n",
       "      <td>2290</td>\n",
       "      <td>PUDDLE</td>\n",
       "      <td>604.0</td>\n",
       "    </tr>\n",
       "    <tr>\n",
       "      <th>1353754</th>\n",
       "      <td>2548</td>\n",
       "      <td>BARREL</td>\n",
       "      <td>590.0</td>\n",
       "    </tr>\n",
       "  </tbody>\n",
       "</table>\n",
       "<p>846 rows × 3 columns</p>\n",
       "</div>"
      ],
      "text/plain": [
       "         concepticon_id concepticon_gloss  concreteness\n",
       "0                  1369              GOLD         576.0\n",
       "60                 1425             GREEN         460.0\n",
       "122                1481            HAMMER         605.0\n",
       "152                1277              HAND         604.0\n",
       "182                1256              HEAD         603.0\n",
       "...                 ...               ...           ...\n",
       "1305965             287              CONE         573.0\n",
       "1351537            1015              SOIL         581.0\n",
       "1351716             637              MOSS         575.0\n",
       "1352029            2290            PUDDLE         604.0\n",
       "1353754            2548            BARREL         590.0\n",
       "\n",
       "[846 rows x 3 columns]"
      ]
     },
     "execution_count": 20,
     "metadata": {},
     "output_type": "execute_result"
    }
   ],
   "source": [
    "concrete_cpts = df[df['concreteness'] >= 400]\n",
    "concrete_cpts = concrete_cpts[[\"concepticon_id\", \"concepticon_gloss\", \"concreteness\"]].drop_duplicates()\n",
    "concrete_cpts"
   ]
  },
  {
   "cell_type": "code",
   "execution_count": 25,
   "metadata": {},
   "outputs": [
    {
     "name": "stdout",
     "output_type": "stream",
     "text": [
      "Number of unique abstract concepts: 846\n"
     ]
    }
   ],
   "source": [
    "num_concrete = concrete_cpts['concepticon_id'].nunique()\n",
    "print(f\"Number of unique abstract concepts: {num_concrete}\")"
   ]
  },
  {
   "cell_type": "markdown",
   "metadata": {},
   "source": [
    "To simplify the process of analysis later, we will create a dictionary that maps concepticon_id to a boolean representing whether or not the concepticon is abstract"
   ]
  },
  {
   "cell_type": "code",
   "execution_count": 38,
   "metadata": {},
   "outputs": [],
   "source": [
    "df[\"is_abstract\"] = df[\"concreteness\"] < 400\n",
    "filtered_df = df[[\"concepticon_id\", \"is_abstract\"]].drop_duplicates()\n",
    "id_to_abstractness = filtered_df.set_index(\"concepticon_id\")[\"is_abstract\"].to_dict()"
   ]
  },
  {
   "cell_type": "markdown",
   "metadata": {},
   "source": [
    "# Helper functions"
   ]
  },
  {
   "cell_type": "markdown",
   "metadata": {},
   "source": [
    "For now, these just include the helper + main functions from the demo notebook, copied here for later use:"
   ]
  },
  {
   "cell_type": "code",
   "execution_count": 41,
   "metadata": {},
   "outputs": [],
   "source": [
    "def per_lang_colexification(curr_df):\n",
    "    \"\"\"\n",
    "    Calculate the colexification frequency of pairs of concepts present in the current language.\n",
    "    \"\"\"\n",
    "    all_combos_dict = {}\n",
    "    # We iterate through each row, which has the concepts associated with a specific word\n",
    "    for i, row in curr_df.iterrows():\n",
    "        # Get the current set of concepts\n",
    "        a = row['concepticon_gloss']\n",
    "        # Create all possible unique combinations of concepts, where each pair is alphabetically sorted\n",
    "        combos = list(set(map(lambda x: tuple(sorted(x)), product(a, a))))\n",
    "        # Ensure the concepts in the pair are not identical\n",
    "        combos = [combo for combo in combos if combo[0] != combo[1]]\n",
    "        # Add counts for a pair of combinations being colexified\n",
    "        for combo in combos:\n",
    "            if combo in all_combos_dict:\n",
    "                all_combos_dict[combo] += 1\n",
    "            else:\n",
    "                all_combos_dict[combo] = 1\n",
    "\n",
    "    # Create a DataFrame out of our dictionary and return the colexification counts for two concepts\n",
    "    tmp = pd.DataFrame.from_dict(all_combos_dict, \"index\").reset_index()\n",
    "    per_lang = pd.DataFrame(tmp['index'].tolist(), columns=['concept_1', \"concept_2\"])\n",
    "    per_lang['colexification_count'] = tmp[0]\n",
    "    return per_lang"
   ]
  },
  {
   "cell_type": "code",
   "execution_count": null,
   "metadata": {},
   "outputs": [],
   "source": [
    "def main():\n",
    "    all_dfs = []\n",
    "    for variety in tqdm(df['variety'].unique()):\n",
    "        sub = df[df['variety'] == variety]\n",
    "        agg = sub.groupby(\"clics_form\")[['concepticon_gloss', 'concepticon_id']].agg(list)\n",
    "        agg['num_concepts'] = agg['concepticon_gloss'].apply(lambda x: len(set(x)))\n",
    "        colex = agg[agg['num_concepts']>1]\n",
    "        colex['concepticon_gloss'] = colex['concepticon_gloss'].apply(lambda x: sorted(list(set(x))))\n",
    "        # We skip any language where no concepts are colexified\n",
    "        if colex.shape[0] == 0:\n",
    "            continue\n",
    "        curr_df = per_lang_colexification(colex)\n",
    "        all_dfs.append(curr_df)\n",
    "    mega = pd.concat(all_dfs)\n",
    "    colex_counts = mega.groupby([\"concept_1\", \"concept_2\"]).sum().reset_index()\n",
    "    return colex_counts"
   ]
  }
 ],
 "metadata": {
  "kernelspec": {
   "display_name": "Python 3 (ipykernel)",
   "language": "python",
   "name": "python3"
  },
  "language_info": {
   "codemirror_mode": {
    "name": "ipython",
    "version": 3
   },
   "file_extension": ".py",
   "mimetype": "text/x-python",
   "name": "python",
   "nbconvert_exporter": "python",
   "pygments_lexer": "ipython3",
   "version": "3.11.4"
  }
 },
 "nbformat": 4,
 "nbformat_minor": 2
}
