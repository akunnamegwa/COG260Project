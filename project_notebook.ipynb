{
 "cells": [
  {
   "cell_type": "markdown",
   "metadata": {},
   "source": [
    "# Executable Notebook for COG260 Project on Concrete-Abstract Colexification\n",
    "\n",
    "Data source: https://osf.io/hjvm5/\n",
    "\n",
    "Paper: https://psyarxiv.com/efs4p/"
   ]
  },
  {
   "cell_type": "code",
   "execution_count": 1,
   "metadata": {
    "ExecuteTime": {
     "end_time": "2023-12-12T22:05:42.453189500Z",
     "start_time": "2023-12-12T22:05:42.356380200Z"
    }
   },
   "outputs": [],
   "source": [
    "from scipy.stats import ks_2samp, mannwhitneyu, ttest_ind,  pearsonr, chi2_contingency, spearmanr, f_oneway\n",
    "import matplotlib.pyplot as plt\n",
    "import numpy as np\n",
    "import pandas as pd\n",
    "import seaborn as sns\n",
    "from itertools import product\n",
    "from mpl_toolkits.mplot3d import Axes3D\n",
    "from collections import Counter\n",
    "import statsmodels.api as sm\n",
    "\n",
    "from sklearn.model_selection import train_test_split\n",
    "from sklearn.linear_model import LogisticRegression\n",
    "from sklearn.metrics import classification_report, confusion_matrix\n",
    "# the library below is useful for estimating the progress of a for loop\n",
    "# the use of tqdm will be displayed in Demo 2\n",
    "from tqdm import tqdm\n",
    "\n",
    "pd.options.mode.chained_assignment = None"
   ]
  },
  {
   "cell_type": "markdown",
   "metadata": {},
   "source": [
    "Import relevant Python libraries."
   ]
  },
  {
   "cell_type": "code",
   "execution_count": 2,
   "metadata": {
    "ExecuteTime": {
     "end_time": "2023-12-12T21:03:58.191336500Z",
     "start_time": "2023-12-12T21:03:50.466535400Z"
    }
   },
   "outputs": [
    {
     "name": "stderr",
     "output_type": "stream",
     "text": [
      "/var/folders/5b/_w993gdd31x1z6ctz1dyfnsm0000gp/T/ipykernel_3171/2801652837.py:1: DtypeWarning: Columns (4) have mixed types. Specify dtype option on import or set low_memory=False.\n",
      "  df = pd.read_csv(\"df_all_raw.csv\")\n"
     ]
    }
   ],
   "source": [
    "df = pd.read_csv(\"df_all_raw.csv\")\n",
    "df.columns = list(map(str.lower, df.columns))\n",
    "df = df.drop(columns=['dataset_id', 'form_id', 'form', 'gloss_in_source', 'iso639p3code', 'mrc_word', 'kucera_francis_frequency'])"
   ]
  },
  {
   "cell_type": "markdown",
   "metadata": {},
   "source": [
    "# Data Fields\n",
    "\n",
    "**clics_form**: the form of the word in the language of interest\n",
    "\n",
    "**concepticon_id**: unique numerical identifier of underlying concept\n",
    "\n",
    "**concepticon_gloss**: the concept underlying the word form\n",
    "\n",
    "**ontological_category**: broad category that the concept falls into\n",
    "\n",
    "**semantic_field**: a set of words related in meaning\n",
    "\n",
    "**variety**: the language\n",
    "\n",
    "**glottocode**: unique alphanumeric identifier for the language variety\n",
    "\n",
    "**macroarea**: the part of the world the language is common in\n",
    "\n",
    "**family**: the language family of the current variety\n",
    "\n",
    "**latitude**: rough latitude where the language variety can be found\n",
    "\n",
    "**longitude**: rough latitude where the language variety can be found\n",
    "\n",
    "**age_of_acquisition**: the age at which a concept is typically learned\n",
    "\n",
    "**concreteness**: a numerical rating of how abstract or concrete a concept is, rated from (100-700)\n",
    "\n",
    "**familiarity**: a numerical rating of how familiar a concept is to the average person, rated from (100-700)\n",
    "\n",
    "**imagability**: a numerical rating of how well an average person can mentally visualize a concept, rated from (100-700)"
   ]
  },
  {
   "cell_type": "markdown",
   "metadata": {},
   "source": [
    "## Setup"
   ]
  },
  {
   "cell_type": "markdown",
   "metadata": {},
   "source": [
    "First, we will visualize some of the concepticons that we will categorize as either \"abstract\" or concrete\" in tables."
   ]
  },
  {
   "cell_type": "code",
   "execution_count": 3,
   "metadata": {},
   "outputs": [
    {
     "data": {
      "text/html": [
       "<div>\n",
       "<style scoped>\n",
       "    .dataframe tbody tr th:only-of-type {\n",
       "        vertical-align: middle;\n",
       "    }\n",
       "\n",
       "    .dataframe tbody tr th {\n",
       "        vertical-align: top;\n",
       "    }\n",
       "\n",
       "    .dataframe thead th {\n",
       "        text-align: right;\n",
       "    }\n",
       "</style>\n",
       "<table border=\"1\" class=\"dataframe\">\n",
       "  <thead>\n",
       "    <tr style=\"text-align: right;\">\n",
       "      <th></th>\n",
       "      <th>concepticon_id</th>\n",
       "      <th>concepticon_gloss</th>\n",
       "      <th>concreteness</th>\n",
       "    </tr>\n",
       "  </thead>\n",
       "  <tbody>\n",
       "    <tr>\n",
       "      <th>70619</th>\n",
       "      <td>1461</td>\n",
       "      <td>AT</td>\n",
       "      <td>194.0</td>\n",
       "    </tr>\n",
       "    <tr>\n",
       "      <th>12225</th>\n",
       "      <td>1239</td>\n",
       "      <td>HOW</td>\n",
       "      <td>195.0</td>\n",
       "    </tr>\n",
       "    <tr>\n",
       "      <th>168102</th>\n",
       "      <td>1157</td>\n",
       "      <td>BECAUSE</td>\n",
       "      <td>196.0</td>\n",
       "    </tr>\n",
       "    <tr>\n",
       "      <th>31399</th>\n",
       "      <td>693</td>\n",
       "      <td>FROM</td>\n",
       "      <td>197.0</td>\n",
       "    </tr>\n",
       "    <tr>\n",
       "      <th>31491</th>\n",
       "      <td>1459</td>\n",
       "      <td>IF</td>\n",
       "      <td>204.0</td>\n",
       "    </tr>\n",
       "    <tr>\n",
       "      <th>...</th>\n",
       "      <td>...</td>\n",
       "      <td>...</td>\n",
       "      <td>...</td>\n",
       "    </tr>\n",
       "    <tr>\n",
       "      <th>10693</th>\n",
       "      <td>956</td>\n",
       "      <td>FLEE</td>\n",
       "      <td>400.0</td>\n",
       "    </tr>\n",
       "    <tr>\n",
       "      <th>202478</th>\n",
       "      <td>1591</td>\n",
       "      <td>UP</td>\n",
       "      <td>400.0</td>\n",
       "    </tr>\n",
       "    <tr>\n",
       "      <th>6894</th>\n",
       "      <td>1593</td>\n",
       "      <td>DEEP</td>\n",
       "      <td>400.0</td>\n",
       "    </tr>\n",
       "    <tr>\n",
       "      <th>4819</th>\n",
       "      <td>1456</td>\n",
       "      <td>THROW</td>\n",
       "      <td>400.0</td>\n",
       "    </tr>\n",
       "    <tr>\n",
       "      <th>28188</th>\n",
       "      <td>2375</td>\n",
       "      <td>VERTICAL</td>\n",
       "      <td>400.0</td>\n",
       "    </tr>\n",
       "  </tbody>\n",
       "</table>\n",
       "<p>361 rows × 3 columns</p>\n",
       "</div>"
      ],
      "text/plain": [
       "        concepticon_id concepticon_gloss  concreteness\n",
       "70619             1461                AT         194.0\n",
       "12225             1239               HOW         195.0\n",
       "168102            1157           BECAUSE         196.0\n",
       "31399              693              FROM         197.0\n",
       "31491             1459                IF         204.0\n",
       "...                ...               ...           ...\n",
       "10693              956              FLEE         400.0\n",
       "202478            1591                UP         400.0\n",
       "6894              1593              DEEP         400.0\n",
       "4819              1456             THROW         400.0\n",
       "28188             2375          VERTICAL         400.0\n",
       "\n",
       "[361 rows x 3 columns]"
      ]
     },
     "execution_count": 3,
     "metadata": {},
     "output_type": "execute_result"
    }
   ],
   "source": [
    "abstract_cpts = df[df['concreteness'] <= 400]\n",
    "abstract_cpts = abstract_cpts[[\"concepticon_id\", \"concepticon_gloss\", \"concreteness\"]].drop_duplicates()\n",
    "abstract_cpts.sort_values(by=\"concreteness\")"
   ]
  },
  {
   "cell_type": "code",
   "execution_count": 4,
   "metadata": {},
   "outputs": [
    {
     "data": {
      "text/html": [
       "<div>\n",
       "<style scoped>\n",
       "    .dataframe tbody tr th:only-of-type {\n",
       "        vertical-align: middle;\n",
       "    }\n",
       "\n",
       "    .dataframe tbody tr th {\n",
       "        vertical-align: top;\n",
       "    }\n",
       "\n",
       "    .dataframe thead th {\n",
       "        text-align: right;\n",
       "    }\n",
       "</style>\n",
       "<table border=\"1\" class=\"dataframe\">\n",
       "  <thead>\n",
       "    <tr style=\"text-align: right;\">\n",
       "      <th></th>\n",
       "      <th>concepticon_id</th>\n",
       "      <th>concepticon_gloss</th>\n",
       "      <th>concreteness</th>\n",
       "    </tr>\n",
       "  </thead>\n",
       "  <tbody>\n",
       "    <tr>\n",
       "      <th>58494</th>\n",
       "      <td>1039</td>\n",
       "      <td>SHOW</td>\n",
       "      <td>402.0</td>\n",
       "    </tr>\n",
       "    <tr>\n",
       "      <th>2981</th>\n",
       "      <td>1246</td>\n",
       "      <td>SMALL</td>\n",
       "      <td>402.0</td>\n",
       "    </tr>\n",
       "    <tr>\n",
       "      <th>962892</th>\n",
       "      <td>2484</td>\n",
       "      <td>SMALL (NOT TALL)</td>\n",
       "      <td>402.0</td>\n",
       "    </tr>\n",
       "    <tr>\n",
       "      <th>4973</th>\n",
       "      <td>1086</td>\n",
       "      <td>WORK (ACTIVITY)</td>\n",
       "      <td>402.0</td>\n",
       "    </tr>\n",
       "    <tr>\n",
       "      <th>16616</th>\n",
       "      <td>1840</td>\n",
       "      <td>BUILD</td>\n",
       "      <td>402.0</td>\n",
       "    </tr>\n",
       "    <tr>\n",
       "      <th>...</th>\n",
       "      <td>...</td>\n",
       "      <td>...</td>\n",
       "      <td>...</td>\n",
       "    </tr>\n",
       "    <tr>\n",
       "      <th>19090</th>\n",
       "      <td>985</td>\n",
       "      <td>VINEGAR</td>\n",
       "      <td>645.0</td>\n",
       "    </tr>\n",
       "    <tr>\n",
       "      <th>8316</th>\n",
       "      <td>496</td>\n",
       "      <td>CUCUMBER</td>\n",
       "      <td>653.0</td>\n",
       "    </tr>\n",
       "    <tr>\n",
       "      <th>42870</th>\n",
       "      <td>607</td>\n",
       "      <td>GRASSHOPPER</td>\n",
       "      <td>660.0</td>\n",
       "    </tr>\n",
       "    <tr>\n",
       "      <th>18288</th>\n",
       "      <td>986</td>\n",
       "      <td>TOMATO</td>\n",
       "      <td>662.0</td>\n",
       "    </tr>\n",
       "    <tr>\n",
       "      <th>1002</th>\n",
       "      <td>635</td>\n",
       "      <td>MILK</td>\n",
       "      <td>670.0</td>\n",
       "    </tr>\n",
       "  </tbody>\n",
       "</table>\n",
       "<p>841 rows × 3 columns</p>\n",
       "</div>"
      ],
      "text/plain": [
       "        concepticon_id concepticon_gloss  concreteness\n",
       "58494             1039              SHOW         402.0\n",
       "2981              1246             SMALL         402.0\n",
       "962892            2484  SMALL (NOT TALL)         402.0\n",
       "4973              1086   WORK (ACTIVITY)         402.0\n",
       "16616             1840             BUILD         402.0\n",
       "...                ...               ...           ...\n",
       "19090              985           VINEGAR         645.0\n",
       "8316               496          CUCUMBER         653.0\n",
       "42870              607       GRASSHOPPER         660.0\n",
       "18288              986            TOMATO         662.0\n",
       "1002               635              MILK         670.0\n",
       "\n",
       "[841 rows x 3 columns]"
      ]
     },
     "execution_count": 4,
     "metadata": {},
     "output_type": "execute_result"
    }
   ],
   "source": [
    "concrete_cpts = df[df['concreteness'] > 400]\n",
    "concrete_cpts = concrete_cpts[[\"concepticon_id\", \"concepticon_gloss\", \"concreteness\"]].drop_duplicates()\n",
    "concrete_cpts.sort_values(by=\"concreteness\")"
   ]
  },
  {
   "cell_type": "markdown",
   "metadata": {},
   "source": [
    "To simplify the process of analysis later, we will create dictionaries that map concepticon_id to it's concreteness score and concepticon_gloss"
   ]
  },
  {
   "cell_type": "code",
   "execution_count": 5,
   "metadata": {
    "ExecuteTime": {
     "end_time": "2023-12-12T21:03:59.094287Z",
     "start_time": "2023-12-12T21:03:58.686173100Z"
    }
   },
   "outputs": [],
   "source": [
    "filtered_df = df[[\"concepticon_id\", \"concepticon_gloss\", \"concreteness\"]].dropna().drop_duplicates()\n",
    "id_to_concreteness = filtered_df.set_index(\"concepticon_id\")[\"concreteness\"].to_dict()\n",
    "id_to_gloss = filtered_df.set_index(\"concepticon_id\")[\"concepticon_gloss\"].to_dict()"
   ]
  },
  {
   "cell_type": "markdown",
   "metadata": {},
   "source": [
    "## Frequency Histogram for Concreteness of Concepts\n",
    "\n",
    "To visualise how concreteness is distributed across concepts in the data, we have a histogram:"
   ]
  },
  {
   "cell_type": "code",
   "execution_count": 6,
   "metadata": {
    "ExecuteTime": {
     "end_time": "2023-12-12T21:03:59.810374100Z",
     "start_time": "2023-12-12T21:03:59.031766100Z"
    }
   },
   "outputs": [
    {
     "data": {
      "text/plain": [
       "<matplotlib.legend.Legend at 0x15fc03bd0>"
      ]
     },
     "execution_count": 6,
     "metadata": {},
     "output_type": "execute_result"
    },
    {
     "data": {
      "image/png": "[encoded data removed]",
      "text/plain": [
       "<Figure size 640x480 with 1 Axes>"
      ]
     },
     "metadata": {},
     "output_type": "display_data"
    }
   ],
   "source": [
    "concreteness = filtered_df[[\"concreteness\"]]\n",
    "plt.hist(concreteness, bins=15,edgecolor=\"black\")\n",
    "plt.title(\"Frequency of Concreteness across Unique Concepts\")\n",
    "plt.xlabel(\"Concreteness\")\n",
    "plt.ylabel(\"Frequency\")\n",
    "plt.axvline(x=400, ls=\"--\", c=\"black\", label=\"Distinction between abstract and concrete\")\n",
    "plt.legend()"
   ]
  },
  {
   "cell_type": "markdown",
   "metadata": {},
   "source": [
    "## Main + Helper functions"
   ]
  },
  {
   "cell_type": "code",
   "execution_count": 7,
   "metadata": {
    "ExecuteTime": {
     "end_time": "2023-12-12T21:03:59.935696200Z",
     "start_time": "2023-12-12T21:03:59.825895600Z"
    }
   },
   "outputs": [],
   "source": [
    "def per_lang_colexification(curr_df):\n",
    "    freq_dict = {}\n",
    "    conc_combo_dict = {}\n",
    "    type_count_dict = {\"abs_abs\": 0, \"conc_abs\": 0, \"conc_conc\": 0, \"all\": 0}\n",
    "    contigencyList = []\n",
    "    # We iterate through each row, which has the concepts associated with a specific word\n",
    "    for i, row in curr_df.iterrows():\n",
    "        # Get the current set of concepts\n",
    "        a = row['concepticon_id']\n",
    "        # Create all possible unique combinations of concepts, where each pair is alphabetically sorted\n",
    "        combos = list(set(map(lambda x: tuple(sorted(x)), product(a, a))))\n",
    "        # Ensure the concepts in the pair are not identical\n",
    "        combos = [combo for combo in combos if combo[0] != combo[1]]\n",
    "        # Add counts for a pair of combinations being colexified\n",
    "        for combo in combos:            \n",
    "            # add to concreteness_comb_dict and type_count_dict\n",
    "            if combo not in conc_combo_dict:\n",
    "                if combo[0] in id_to_concreteness and combo[1] in id_to_concreteness:\n",
    "                    conc1 = id_to_concreteness[combo[0]]\n",
    "                    conc2 = id_to_concreteness[combo[1]]\n",
    "                    \n",
    "                    conc_combo_dict[combo] = (conc1, conc2)\n",
    "                    \n",
    "                    type_count_dict[\"all\"] += 1\n",
    "                    if conc1 > 400 and conc2 > 400:\n",
    "                        type_count_dict[\"conc_conc\"] += 1\n",
    "                    elif conc1 <= 400 and conc2 <= 400:\n",
    "                        type_count_dict[\"abs_abs\"] += 1\n",
    "                    else:\n",
    "                        type_count_dict[\"conc_abs\"] += 1\n",
    "                    \n",
    "                    \n",
    "                    # contingency table for chi2 test\n",
    "                    if (conc1 <= 400 and conc2 <= 400): \n",
    "                        contigencyList.append(\"abs-ab\")\n",
    "                    elif conc1 <= 400 and conc2 > 400: \n",
    "                        contigencyList.append(\"abs-conc\")\n",
    "                    elif conc1 > 400 and conc2 <= 400: \n",
    "                        contigencyList.append(\"conc-abs\")\n",
    "                    elif conc1 > 400 and conc2 > 400: \n",
    "                        contigencyList.append(\"conc-conc\")\n",
    "                        \n",
    "                    \n",
    "            # add to freq dict (if it was added to concreteness)\n",
    "            if combo in freq_dict:\n",
    "                freq_dict[combo] += 1\n",
    "            else:\n",
    "                freq_dict[combo] = 1\n",
    "\n",
    "    # Create a DataFrame out of our dictionary and return the colexification counts for two concepts\n",
    "    tmp1 = pd.DataFrame(list(conc_combo_dict.items()), columns=['pair_ids', 'concreteness'])\n",
    "    tmp2 = pd.DataFrame(list(freq_dict.items()), columns=['pair_ids', 'frequency'])\n",
    "    per_lang = pd.merge(tmp1, tmp2, on='pair_ids', how='inner')\n",
    "    \n",
    "    # create dataframe to store percentages of types\n",
    "    type_counts = pd.DataFrame([type_count_dict])\n",
    "    \n",
    "    return per_lang, type_counts, contigencyList"
   ]
  },
  {
   "cell_type": "code",
   "execution_count": 8,
   "metadata": {
    "ExecuteTime": {
     "end_time": "2023-12-12T21:03:59.935696200Z",
     "start_time": "2023-12-12T21:03:59.857172200Z"
    }
   },
   "outputs": [],
   "source": [
    "def main():\n",
    "    all_pairs_dfs = []\n",
    "    all_type_counts_dfs = []\n",
    "    all_contigency_list = []\n",
    "    area_counts = {}\n",
    "    for area in df['macroarea'].unique():\n",
    "        area_count_dfs = []\n",
    "        \n",
    "        for variety in tqdm(df[df['macroarea'] == area]['variety'].unique()):\n",
    "            sub = df[df['variety'] == variety]\n",
    "            agg = sub.groupby(\"clics_form\")[['concepticon_gloss', 'concepticon_id']].agg(list)\n",
    "            agg['num_concepts'] = agg['concepticon_gloss'].apply(lambda x: len(set(x)))\n",
    "            colex = agg[agg['num_concepts']>1]\n",
    "            colex['concepticon_gloss'] = colex['concepticon_gloss'].apply(lambda x: sorted(list(set(x))))\n",
    "            # We skip any language where no concepts are colexified\n",
    "            if colex.shape[0] == 0:\n",
    "                continue\n",
    "            curr_df, curr_type_count, curr_contingency = per_lang_colexification(colex)\n",
    "            all_pairs_dfs.append(curr_df)\n",
    "            all_type_counts_dfs.append(curr_type_count)\n",
    "            area_count_dfs.append(curr_type_count)\n",
    "            all_contigency_list.extend(curr_contingency)\n",
    "        if len(area_count_dfs) > 0:    \n",
    "            area_df = pd.concat(area_count_dfs)\n",
    "            area_counts[area] = area_df\n",
    "    \n",
    "    #include languages without a given macroarea in the df for all the languages\n",
    "    for variety in tqdm(df.loc[df['macroarea'].isna(), 'variety'].unique()):\n",
    "        sub = df[df['variety'] == variety]\n",
    "        agg = sub.groupby(\"clics_form\")[['concepticon_gloss', 'concepticon_id']].agg(list)\n",
    "        agg['num_concepts'] = agg['concepticon_gloss'].apply(lambda x: len(set(x)))\n",
    "        colex = agg[agg['num_concepts']>1]\n",
    "        colex['concepticon_gloss'] = colex['concepticon_gloss'].apply(lambda x: sorted(list(set(x))))\n",
    "        # We skip any language where no concepts are colexified\n",
    "        if colex.shape[0] == 0:\n",
    "            continue\n",
    "        curr_df, curr_type_count, curr_contingency = per_lang_colexification(colex)\n",
    "        all_pairs_dfs.append(curr_df)\n",
    "        all_type_counts_dfs.append(curr_type_count)\n",
    "        all_contigency_list.extend(curr_contingency)\n",
    "\n",
    "    mega = pd.concat(all_pairs_dfs)\n",
    "    mega_no_freq = mega.copy(deep=True)\n",
    "    \n",
    "    mega = mega.groupby([\"pair_ids\", \"concreteness\"]).sum().reset_index()\n",
    "    \n",
    "    mega_no_freq = mega_no_freq[[\"pair_ids\", \"concreteness\"]]\n",
    "    \n",
    "    all_counts = pd.concat(all_type_counts_dfs)\n",
    "    \n",
    "    return mega, mega_no_freq, all_counts, area_counts, Counter(all_contigency_list)"
   ]
  },
  {
   "cell_type": "code",
   "execution_count": 9,
   "metadata": {
    "ExecuteTime": {
     "end_time": "2023-12-12T21:10:07.633246900Z",
     "start_time": "2023-12-12T21:10:07.618234900Z"
    }
   },
   "outputs": [],
   "source": [
    "def add_info_cols(df):\n",
    "    df['x'] = df['concreteness'].apply(lambda coord: coord[0])\n",
    "    df['y'] = df['concreteness'].apply(lambda coord: coord[1])\n",
    "    df['pair_glosses'] = df['pair_ids'].apply(lambda ids: (id_to_gloss[ids[0]], id_to_gloss[ids[1]]))\n",
    "    return df"
   ]
  },
  {
   "cell_type": "code",
   "execution_count": 10,
   "metadata": {
    "ExecuteTime": {
     "end_time": "2023-12-12T21:10:07.633246900Z",
     "start_time": "2023-12-12T21:10:07.618234900Z"
    }
   },
   "outputs": [],
   "source": [
    "def get_avg_relative_freqs(df):\n",
    "    df = df[df['all']!= 0]\n",
    "    type_percents = pd.DataFrame({\n",
    "    'Abstract-Abstract': df['abs_abs'] / df['all'] * 100,\n",
    "    'Concrete-Abstract': df['conc_abs'] / df['all'] * 100,\n",
    "    'Concrete-Concrete': df['conc_conc'] / df['all'] * 100\n",
    "    })\n",
    "    means = type_percents.mean()\n",
    "    std_devs = type_percents.std()\n",
    "    return means, std_devs"
   ]
  },
  {
   "cell_type": "markdown",
   "metadata": {},
   "source": [
    "## Data Processing"
   ]
  },
  {
   "cell_type": "code",
   "execution_count": 11,
   "metadata": {
    "ExecuteTime": {
     "end_time": "2023-12-12T21:10:07.604892600Z",
     "start_time": "2023-12-12T21:03:59.888410900Z"
    }
   },
   "outputs": [
    {
     "name": "stderr",
     "output_type": "stream",
     "text": [
      "0it [00:00, ?it/s]\n",
      "100%|█████████████████████████████████████████| 619/619 [00:27<00:00, 22.33it/s]\n",
      "100%|█████████████████████████████████████████| 229/229 [00:09<00:00, 24.03it/s]\n",
      "100%|█████████████████████████████████████████| 167/167 [00:06<00:00, 26.59it/s]\n",
      "100%|███████████████████████████████████████| 1554/1554 [00:58<00:00, 26.60it/s]\n",
      "100%|█████████████████████████████████████████| 181/181 [00:07<00:00, 23.53it/s]\n",
      "100%|███████████████████████████████████████████| 19/19 [00:00<00:00, 21.24it/s]\n",
      "100%|█████████████████████████████████████████| 287/287 [00:11<00:00, 26.05it/s]\n"
     ]
    }
   ],
   "source": [
    "mega, mega_no_freq, counts, area_counts, contigencyDict = main()"
   ]
  },
  {
   "cell_type": "code",
   "execution_count": 12,
   "metadata": {
    "ExecuteTime": {
     "end_time": "2023-12-12T21:10:07.774828600Z",
     "start_time": "2023-12-12T21:10:07.648896800Z"
    }
   },
   "outputs": [],
   "source": [
    "mega = add_info_cols(mega)\n",
    "mega_no_freq = add_info_cols(mega_no_freq)"
   ]
  },
  {
   "cell_type": "markdown",
   "metadata": {},
   "source": [
    "## Most frequent pairs of each type"
   ]
  },
  {
   "cell_type": "code",
   "execution_count": 13,
   "metadata": {
    "ExecuteTime": {
     "end_time": "2023-12-12T21:10:07.821745200Z",
     "start_time": "2023-12-12T21:10:07.774828600Z"
    }
   },
   "outputs": [
    {
     "data": {
      "text/html": [
       "<div>\n",
       "<style scoped>\n",
       "    .dataframe tbody tr th:only-of-type {\n",
       "        vertical-align: middle;\n",
       "    }\n",
       "\n",
       "    .dataframe tbody tr th {\n",
       "        vertical-align: top;\n",
       "    }\n",
       "\n",
       "    .dataframe thead th {\n",
       "        text-align: right;\n",
       "    }\n",
       "</style>\n",
       "<table border=\"1\" class=\"dataframe\">\n",
       "  <thead>\n",
       "    <tr style=\"text-align: right;\">\n",
       "      <th></th>\n",
       "      <th>pair_glosses</th>\n",
       "      <th>concreteness</th>\n",
       "      <th>frequency</th>\n",
       "    </tr>\n",
       "  </thead>\n",
       "  <tbody>\n",
       "    <tr>\n",
       "      <th>18584</th>\n",
       "      <td>(WE (INCLUSIVE), WE)</td>\n",
       "      <td>(270.0, 270.0)</td>\n",
       "      <td>158</td>\n",
       "    </tr>\n",
       "    <tr>\n",
       "      <th>12622</th>\n",
       "      <td>(END (OF SPACE), END (OF TIME))</td>\n",
       "      <td>(320.0, 320.0)</td>\n",
       "      <td>134</td>\n",
       "    </tr>\n",
       "    <tr>\n",
       "      <th>23381</th>\n",
       "      <td>(WITH, AND)</td>\n",
       "      <td>(268.0, 220.0)</td>\n",
       "      <td>132</td>\n",
       "    </tr>\n",
       "    <tr>\n",
       "      <th>18549</th>\n",
       "      <td>(WE (EXCLUSIVE), WE (INCLUSIVE))</td>\n",
       "      <td>(270.0, 270.0)</td>\n",
       "      <td>127</td>\n",
       "    </tr>\n",
       "    <tr>\n",
       "      <th>24825</th>\n",
       "      <td>(THINK (REFLECT), THINK (BELIEVE))</td>\n",
       "      <td>(346.0, 346.0)</td>\n",
       "      <td>125</td>\n",
       "    </tr>\n",
       "  </tbody>\n",
       "</table>\n",
       "</div>"
      ],
      "text/plain": [
       "                             pair_glosses    concreteness  frequency\n",
       "18584                (WE (INCLUSIVE), WE)  (270.0, 270.0)        158\n",
       "12622     (END (OF SPACE), END (OF TIME))  (320.0, 320.0)        134\n",
       "23381                         (WITH, AND)  (268.0, 220.0)        132\n",
       "18549    (WE (EXCLUSIVE), WE (INCLUSIVE))  (270.0, 270.0)        127\n",
       "24825  (THINK (REFLECT), THINK (BELIEVE))  (346.0, 346.0)        125"
      ]
     },
     "execution_count": 13,
     "metadata": {},
     "output_type": "execute_result"
    }
   ],
   "source": [
    "abstract_abstract = mega[(mega['x'] <= 400) & (mega['y'] <= 400)]\n",
    "abstract_abstract.sort_values(by=\"frequency\", ascending=False).head(5)[['pair_glosses', \"concreteness\", \"frequency\"]]"
   ]
  },
  {
   "cell_type": "code",
   "execution_count": 14,
   "metadata": {
    "ExecuteTime": {
     "end_time": "2023-12-12T21:10:07.962915200Z",
     "start_time": "2023-12-12T21:10:07.806108200Z"
    }
   },
   "outputs": [
    {
     "data": {
      "text/html": [
       "<div>\n",
       "<style scoped>\n",
       "    .dataframe tbody tr th:only-of-type {\n",
       "        vertical-align: middle;\n",
       "    }\n",
       "\n",
       "    .dataframe tbody tr th {\n",
       "        vertical-align: top;\n",
       "    }\n",
       "\n",
       "    .dataframe thead th {\n",
       "        text-align: right;\n",
       "    }\n",
       "</style>\n",
       "<table border=\"1\" class=\"dataframe\">\n",
       "  <thead>\n",
       "    <tr style=\"text-align: right;\">\n",
       "      <th></th>\n",
       "      <th>pair_glosses</th>\n",
       "      <th>concreteness</th>\n",
       "      <th>frequency</th>\n",
       "    </tr>\n",
       "  </thead>\n",
       "  <tbody>\n",
       "    <tr>\n",
       "      <th>15406</th>\n",
       "      <td>(TREE, WOOD)</td>\n",
       "      <td>(604.0, 606.0)</td>\n",
       "      <td>360</td>\n",
       "    </tr>\n",
       "    <tr>\n",
       "      <th>22620</th>\n",
       "      <td>(LEG, FOOT)</td>\n",
       "      <td>(626.0, 558.0)</td>\n",
       "      <td>359</td>\n",
       "    </tr>\n",
       "    <tr>\n",
       "      <th>16492</th>\n",
       "      <td>(WOMAN, WIFE)</td>\n",
       "      <td>(580.0, 562.0)</td>\n",
       "      <td>306</td>\n",
       "    </tr>\n",
       "    <tr>\n",
       "      <th>22235</th>\n",
       "      <td>(HAND, ARM)</td>\n",
       "      <td>(604.0, 592.0)</td>\n",
       "      <td>302</td>\n",
       "    </tr>\n",
       "    <tr>\n",
       "      <th>8365</th>\n",
       "      <td>(LEATHER, SKIN)</td>\n",
       "      <td>(575.0, 614.0)</td>\n",
       "      <td>282</td>\n",
       "    </tr>\n",
       "  </tbody>\n",
       "</table>\n",
       "</div>"
      ],
      "text/plain": [
       "          pair_glosses    concreteness  frequency\n",
       "15406     (TREE, WOOD)  (604.0, 606.0)        360\n",
       "22620      (LEG, FOOT)  (626.0, 558.0)        359\n",
       "16492    (WOMAN, WIFE)  (580.0, 562.0)        306\n",
       "22235      (HAND, ARM)  (604.0, 592.0)        302\n",
       "8365   (LEATHER, SKIN)  (575.0, 614.0)        282"
      ]
     },
     "execution_count": 14,
     "metadata": {},
     "output_type": "execute_result"
    }
   ],
   "source": [
    "concrete_concrete = mega[(mega['x'] > 400) & (mega['y'] > 400)]\n",
    "concrete_concrete.sort_values(by=\"frequency\", ascending=False).head(5)[['pair_glosses', \"concreteness\", \"frequency\"]]"
   ]
  },
  {
   "cell_type": "code",
   "execution_count": 15,
   "metadata": {
    "ExecuteTime": {
     "end_time": "2023-12-12T21:10:08.065278400Z",
     "start_time": "2023-12-12T21:10:07.852984400Z"
    }
   },
   "outputs": [
    {
     "data": {
      "text/html": [
       "<div>\n",
       "<style scoped>\n",
       "    .dataframe tbody tr th:only-of-type {\n",
       "        vertical-align: middle;\n",
       "    }\n",
       "\n",
       "    .dataframe tbody tr th {\n",
       "        vertical-align: top;\n",
       "    }\n",
       "\n",
       "    .dataframe thead th {\n",
       "        text-align: right;\n",
       "    }\n",
       "</style>\n",
       "<table border=\"1\" class=\"dataframe\">\n",
       "  <thead>\n",
       "    <tr style=\"text-align: right;\">\n",
       "      <th></th>\n",
       "      <th>pair_glosses</th>\n",
       "      <th>concreteness</th>\n",
       "      <th>frequency</th>\n",
       "    </tr>\n",
       "  </thead>\n",
       "  <tbody>\n",
       "    <tr>\n",
       "      <th>10785</th>\n",
       "      <td>(GO, WALK)</td>\n",
       "      <td>(337.0, 452.0)</td>\n",
       "      <td>337</td>\n",
       "    </tr>\n",
       "    <tr>\n",
       "      <th>22843</th>\n",
       "      <td>(MOON, MONTH)</td>\n",
       "      <td>(581.0, 345.0)</td>\n",
       "      <td>332</td>\n",
       "    </tr>\n",
       "    <tr>\n",
       "      <th>11324</th>\n",
       "      <td>(TALL, HIGH)</td>\n",
       "      <td>(439.0, 371.0)</td>\n",
       "      <td>190</td>\n",
       "    </tr>\n",
       "    <tr>\n",
       "      <th>11316</th>\n",
       "      <td>(TALL, LONG)</td>\n",
       "      <td>(439.0, 381.0)</td>\n",
       "      <td>127</td>\n",
       "    </tr>\n",
       "    <tr>\n",
       "      <th>21183</th>\n",
       "      <td>(FEW, SMALL)</td>\n",
       "      <td>(309.0, 402.0)</td>\n",
       "      <td>125</td>\n",
       "    </tr>\n",
       "    <tr>\n",
       "      <th>22986</th>\n",
       "      <td>(CLOCK, HOUR)</td>\n",
       "      <td>(591.0, 375.0)</td>\n",
       "      <td>121</td>\n",
       "    </tr>\n",
       "    <tr>\n",
       "      <th>27071</th>\n",
       "      <td>(HEAVEN, SKY)</td>\n",
       "      <td>(305.0, 542.0)</td>\n",
       "      <td>121</td>\n",
       "    </tr>\n",
       "    <tr>\n",
       "      <th>10416</th>\n",
       "      <td>(EASY, LIGHT (WEIGHT))</td>\n",
       "      <td>(288.0, 550.0)</td>\n",
       "      <td>116</td>\n",
       "    </tr>\n",
       "    <tr>\n",
       "      <th>24605</th>\n",
       "      <td>(HEAR, LISTEN)</td>\n",
       "      <td>(394.0, 408.0)</td>\n",
       "      <td>111</td>\n",
       "    </tr>\n",
       "    <tr>\n",
       "      <th>11654</th>\n",
       "      <td>(SHOUT, CALL)</td>\n",
       "      <td>(471.0, 389.0)</td>\n",
       "      <td>88</td>\n",
       "    </tr>\n",
       "  </tbody>\n",
       "</table>\n",
       "</div>"
      ],
      "text/plain": [
       "                 pair_glosses    concreteness  frequency\n",
       "10785              (GO, WALK)  (337.0, 452.0)        337\n",
       "22843           (MOON, MONTH)  (581.0, 345.0)        332\n",
       "11324            (TALL, HIGH)  (439.0, 371.0)        190\n",
       "11316            (TALL, LONG)  (439.0, 381.0)        127\n",
       "21183            (FEW, SMALL)  (309.0, 402.0)        125\n",
       "22986           (CLOCK, HOUR)  (591.0, 375.0)        121\n",
       "27071           (HEAVEN, SKY)  (305.0, 542.0)        121\n",
       "10416  (EASY, LIGHT (WEIGHT))  (288.0, 550.0)        116\n",
       "24605          (HEAR, LISTEN)  (394.0, 408.0)        111\n",
       "11654           (SHOUT, CALL)  (471.0, 389.0)         88"
      ]
     },
     "execution_count": 15,
     "metadata": {},
     "output_type": "execute_result"
    }
   ],
   "source": [
    "concrete_abstract = mega[((mega['x'] <= 400) & (mega['y'] > 400)) | ((mega['x'] > 400) & (mega['y'] <= 400))]\n",
    "concrete_abstract.sort_values(by=\"frequency\", ascending=False).head(10)[['pair_glosses', \"concreteness\", \"frequency\"]]"
   ]
  },
  {
   "cell_type": "markdown",
   "metadata": {},
   "source": [
    "## Relative Frequency Bar Graphs"
   ]
  },
  {
   "cell_type": "code",
   "execution_count": 16,
   "metadata": {
    "ExecuteTime": {
     "end_time": "2023-12-12T21:10:08.127807800Z",
     "start_time": "2023-12-12T21:10:07.900297200Z"
    }
   },
   "outputs": [],
   "source": [
    "all_means={}"
   ]
  },
  {
   "cell_type": "code",
   "execution_count": 17,
   "metadata": {
    "ExecuteTime": {
     "end_time": "2023-12-12T21:10:08.467081100Z",
     "start_time": "2023-12-12T21:10:07.915931300Z"
    }
   },
   "outputs": [
    {
     "data": {
      "image/png": "[encoded data removed]",
      "text/plain": [
       "<Figure size 640x480 with 1 Axes>"
      ]
     },
     "metadata": {},
     "output_type": "display_data"
    }
   ],
   "source": [
    "#average relative frequency across all languages\n",
    "\n",
    "means, std_devs = get_avg_relative_freqs(counts)\n",
    "all_means['all'] = means\n",
    "fig, ax = plt.subplots()\n",
    "\n",
    "means.plot(kind='bar', yerr=std_devs, ax=ax, capsize=5, edgecolor='black')\n",
    "\n",
    "# Set labels and title\n",
    "ax.set_ylabel('Average Relative Frequency (%)')\n",
    "ax.set_xlabel('Type of Pair')\n",
    "ax.set_title('Average Relative Frequency for each type of Pair across Languages')\n",
    "plt.xticks(rotation=20, ha=\"right\")\n",
    "\n",
    "# Show the plot\n",
    "plt.show()"
   ]
  },
  {
   "cell_type": "code",
   "execution_count": 18,
   "metadata": {
    "ExecuteTime": {
     "end_time": "2023-12-12T21:10:12.096887100Z",
     "start_time": "2023-12-12T21:10:08.263210900Z"
    }
   },
   "outputs": [
    {
     "data": {
      "image/png": "[encoded data removed]",
      "text/plain": [
       "<Figure size 1120x720 with 6 Axes>"
      ]
     },
     "metadata": {},
     "output_type": "display_data"
    }
   ],
   "source": [
    "#frequencies across macroareas\n",
    "\n",
    "fig = plt.figure(figsize=(14, 9), dpi= 80, facecolor='w', edgecolor='k', constrained_layout= True)\n",
    "\n",
    "idx = 1\n",
    "for macroarea in area_counts.keys():\n",
    "    means, std_devs = get_avg_relative_freqs(area_counts[macroarea])\n",
    "    all_means[macroarea] = means\n",
    "    plt.subplot(2, 3, idx)\n",
    "    idx += 1\n",
    "    plt.bar(['Abstract-Abstract', 'Concrete-Abstract', 'Concrete-Concrete'], means, yerr=std_devs, capsize=5, edgecolor='black')\n",
    "    plt.title(macroarea)\n",
    "\n",
    "fig.supxlabel(\"Type of Pair\", fontsize=15)\n",
    "fig.supylabel(\"Average Relative Frequnecy(%)\", fontsize=15)\n",
    "fig.suptitle(\"Average Relative Frequencies of types of pairs across Macroareas\", fontsize=20)\n",
    "plt.show()"
   ]
  },
  {
   "cell_type": "code",
   "execution_count": 19,
   "metadata": {
    "ExecuteTime": {
     "end_time": "2023-12-12T21:10:12.345547600Z",
     "start_time": "2023-12-12T21:10:12.096887100Z"
    }
   },
   "outputs": [
    {
     "data": {
      "text/plain": [
       "{'all': Abstract-Abstract    14.929658\n",
       " Concrete-Abstract    21.654785\n",
       " Concrete-Concrete    63.415557\n",
       " dtype: float64,\n",
       " 'Eurasia': Abstract-Abstract    17.965315\n",
       " Concrete-Abstract    23.694759\n",
       " Concrete-Concrete    58.339926\n",
       " dtype: float64,\n",
       " 'Africa': Abstract-Abstract    13.874288\n",
       " Concrete-Abstract    23.807730\n",
       " Concrete-Concrete    62.317983\n",
       " dtype: float64,\n",
       " 'Australia': Abstract-Abstract    13.115146\n",
       " Concrete-Abstract    13.401423\n",
       " Concrete-Concrete    73.483430\n",
       " dtype: float64,\n",
       " 'Papunesia': Abstract-Abstract    13.749001\n",
       " Concrete-Abstract    21.294720\n",
       " Concrete-Concrete    64.956280\n",
       " dtype: float64,\n",
       " 'South America': Abstract-Abstract    17.274307\n",
       " Concrete-Abstract    20.081000\n",
       " Concrete-Concrete    62.644693\n",
       " dtype: float64,\n",
       " 'North America': Abstract-Abstract    16.360889\n",
       " Concrete-Abstract    25.508529\n",
       " Concrete-Concrete    58.130582\n",
       " dtype: float64}"
      ]
     },
     "execution_count": 19,
     "metadata": {},
     "output_type": "execute_result"
    }
   ],
   "source": [
    "#exact results\n",
    "all_means"
   ]
  },
  {
   "cell_type": "markdown",
   "metadata": {},
   "source": [
    "## Density Heat Map"
   ]
  },
  {
   "cell_type": "code",
   "execution_count": 20,
   "metadata": {
    "ExecuteTime": {
     "end_time": "2023-12-12T22:15:53.978604Z",
     "start_time": "2023-12-12T22:13:41.554139900Z"
    }
   },
   "outputs": [
    {
     "data": {
      "image/png": "[encoded data removed]",
      "text/plain": [
       "<Figure size 640x480 with 1 Axes>"
      ]
     },
     "metadata": {},
     "output_type": "display_data"
    }
   ],
   "source": [
    "invertAbsConc = []\n",
    "invertedX = []\n",
    "invertedY =[]\n",
    "for i in range(len(mega_no_freq[\"x\"])):\n",
    "    # I want to translate all ABSTRACT-CONCRETE pairs to CONCRETE-ABSTRACT\n",
    "    concept1 = mega_no_freq[\"x\"].iloc[i]\n",
    "    concept2 = mega_no_freq[\"y\"].iloc[i]\n",
    "    \n",
    "    if concept1 <= 400 and concept2 > 400:\n",
    "        newPair = concept2, concept1\n",
    "        invertAbsConc.append(newPair)\n",
    "        invertedX.append(concept2)\n",
    "        invertedY.append(concept1)\n",
    "    else:\n",
    "        invertAbsConc.append((concept1, concept2))\n",
    "        invertedX.append(concept1)\n",
    "        invertedY.append(concept2)\n",
    "# Creating a new DataFrame\n",
    "data = {'invertedAbsConc': invertAbsConc,\n",
    "        'invertedX': invertedX,\n",
    "        'invertedY': invertedY}\n",
    "\n",
    "invertACtoCA = pd.DataFrame(data)\n",
    "sns.kdeplot(data = invertACtoCA, x=\"invertedX\", y=\"invertedY\", cmap=\"Reds\", fill=True)\n",
    "plt.xlim(100, 700)\n",
    "plt.ylim(100, 700)\n",
    "plt.xlabel('Concreteness of Concept 1')\n",
    "plt.ylabel('Concreteness of Concept 2')\n",
    "plt.title('Concreteness of Colexification Pairs (With Superimposition)')\n",
    "plt.axvline(x=400, ls=\"--\", c=\"gray\")\n",
    "plt.axhline(y=400, ls=\"--\", c=\"gray\")\n",
    "plt.axvline(x=400, ls=\"--\", c=\"gray\")\n",
    "plt.axhline(y=400, ls=\"--\", c=\"gray\")\n",
    "\n",
    "plt.show()"
   ]
  },
  {
   "cell_type": "markdown",
   "metadata": {},
   "source": [
    "## Statistical Significance Testing"
   ]
  },
  {
   "cell_type": "code",
   "execution_count": 21,
   "metadata": {
    "ExecuteTime": {
     "end_time": "2023-12-12T22:06:40.888315Z",
     "start_time": "2023-12-12T22:06:40.746707700Z"
    }
   },
   "outputs": [
    {
     "data": {
      "text/plain": [
       "F_onewayResult(statistic=1.9578305050312846e-46, pvalue=1.0)"
      ]
     },
     "execution_count": 21,
     "metadata": {},
     "output_type": "execute_result"
    }
   ],
   "source": [
    "# TESTING FOR SIGNIFICANT DIFFERENCE IN MACROAREA DISTRIBUTIONS\n",
    "# Null Hypothesis: There is no difference in the colexification distributions between each macroarea (includes the population as well)\n",
    "# Creating a new data frame from the macroarea data\n",
    "dfMacro = pd.DataFrame(all_means)\n",
    "\n",
    "# Reshaping the data frame to do an ANOVA\n",
    "dfAnova = dfMacro.melt(var_name='Macroarea', value_name='Average Relative Frequency', ignore_index=False)\n",
    "\n",
    "# Performing the ANOVA\n",
    "result_anova = f_oneway(\n",
    "    dfAnova[dfAnova.index.get_level_values(0) == 'Abstract-Abstract']['Average Relative Frequency'],\n",
    "    dfAnova[dfAnova.index.get_level_values(0) == 'Abstract-Abstract']['Average Relative Frequency'],\n",
    "    dfAnova[dfAnova.index.get_level_values(0) == 'Abstract-Abstract']['Average Relative Frequency']\n",
    ")\n",
    "\n",
    "# Null Hypothesis Accepted\n",
    "result_anova\n"
   ]
  },
  {
   "cell_type": "code",
   "execution_count": 22,
   "metadata": {
    "ExecuteTime": {
     "end_time": "2023-12-12T22:09:11.596779300Z",
     "start_time": "2023-12-12T22:09:11.486941300Z"
    }
   },
   "outputs": [
    {
     "name": "stdout",
     "output_type": "stream",
     "text": [
      "t-statistic is: -65.29396535021377  p-value is: 0.0\n"
     ]
    }
   ],
   "source": [
    "# Testing for Significant Difference Between Our Abstract and Concrete Concepts Given Our Cut-Off of 400 Using a T-Test\n",
    "# Null Hypothesis: There is no significance\n",
    "\n",
    "group1 = abstract_cpts['concreteness']\n",
    "group2 = concrete_cpts['concreteness']\n",
    "t_stat, p_value = ttest_ind(group1, group2, equal_var=False)\n",
    "\n",
    "# Null Hypothesis Rejected\n",
    "# Since the p value is low we can continue knowing that there is a significant difference in concreteness between the two categories given our working definition.\n",
    "print(f\"t-statistic is: {t_stat} \", f\"p-value is: {p_value}\")"
   ]
  },
  {
   "cell_type": "code",
   "execution_count": 23,
   "metadata": {
    "ExecuteTime": {
     "end_time": "2023-12-12T21:13:09.293053800Z",
     "start_time": "2023-12-12T21:13:09.198839600Z"
    }
   },
   "outputs": [
    {
     "name": "stdout",
     "output_type": "stream",
     "text": [
      "Correlation Coefficient is: 0.21236879179040258  Correlation P- Value is: 1.3070326362478382e-290\n"
     ]
    }
   ],
   "source": [
    "# Testing for Linear Relationship Between Our Abstract and Concrete Colexification Using a Pearson Correlation Like in Class\n",
    "# Null Hypothesis: There is no linear relationship between the two\n",
    "\n",
    "# Assuming you have two pandas Series or NumPy arrays\n",
    "x = mega['x']\n",
    "y = mega['y']\n",
    "correlation_coefficient, correlation_p_value = pearsonr(x, y)\n",
    "\n",
    "print(f\"Correlation Coefficient is: {correlation_coefficient} \", \n",
    "      f\"Correlation P- Value is: {correlation_p_value}\")\n",
    "\n",
    "# Null Hypothesis Accepted\n",
    "# It makes sense that the relationship is non-linear, the p-value is also pretty high"
   ]
  },
  {
   "cell_type": "code",
   "execution_count": 24,
   "metadata": {
    "ExecuteTime": {
     "end_time": "2023-12-12T21:13:09.293053800Z",
     "start_time": "2023-12-12T21:13:09.236621900Z"
    }
   },
   "outputs": [
    {
     "name": "stdout",
     "output_type": "stream",
     "text": [
      "Chi-square statistic: 2347.0437311228857\n",
      "P-value: 0.0\n",
      "Degrees of freedom: 1\n",
      "Expected frequencies:  [[ 1636.07479435  7456.92520565]\n",
      " [ 9234.92520565 42091.07479435]]\n",
      "Observed Frequencies:  [[0, 9093], [10871, 40455]]\n"
     ]
    }
   ],
   "source": [
    "# Testing for Independence Between The Category of The First and Second Concreteness Category of The Colexified Pairs Using a Chi2 Test\n",
    "# Null Hypothesis: the category of the first concepticon gloss in a given colexified pair has no affect (is independent of) the category of the second concepticon gloss in the pair, and vice versa\n",
    "\n",
    "contingencyTable = [ [ contigencyDict[\"abs-abs\"], contigencyDict[\"abs-conc\"]   ],\n",
    "                     [ contigencyDict[\"conc-abs\"], contigencyDict[\"conc-conc\"] ]\n",
    "                    ]               \n",
    "\n",
    "# Perform chi-square test\n",
    "chi2_stat, p_value, dof, expected = chi2_contingency(contingencyTable)\n",
    "\n",
    "# Display results\n",
    "print(f\"Chi-square statistic: {chi2_stat}\")\n",
    "print(f\"P-value: {p_value}\")\n",
    "print(f\"Degrees of freedom: {dof}\")\n",
    "print(\"Expected frequencies: \", expected)\n",
    "print(\"Observed Frequencies: \", contingencyTable)\n",
    "\n",
    "# The results show that there is statistical significance between the expected frequencies of the four categories (given that they are independent) and what was observed from the data. This suggests that there is a relationship between the what concreteness category the first gloss falls into and the second"
   ]
  },
  {
   "cell_type": "code",
   "execution_count": 25,
   "metadata": {
    "ExecuteTime": {
     "end_time": "2023-12-12T21:13:09.670131200Z",
     "start_time": "2023-12-12T21:13:09.246138200Z"
    }
   },
   "outputs": [
    {
     "name": "stdout",
     "output_type": "stream",
     "text": [
      "Optimization terminated successfully.\n",
      "         Current function value: 0.638386\n",
      "         Iterations 5\n",
      "                           Logit Regression Results                           \n",
      "==============================================================================\n",
      "Dep. Variable:        outcomeConcrete   No. Observations:                28764\n",
      "Model:                          Logit   Df Residuals:                    28762\n",
      "Method:                           MLE   Df Model:                            1\n",
      "Date:                Wed, 13 Dec 2023   Pseudo R-squ.:                 0.01635\n",
      "Time:                        01:38:16   Log-Likelihood:                -18363.\n",
      "converged:                       True   LL-Null:                       -18668.\n",
      "Covariance Type:            nonrobust   LLR p-value:                9.598e-135\n",
      "=====================================================================================\n",
      "                        coef    std err          z      P>|z|      [0.025      0.975]\n",
      "-------------------------------------------------------------------------------------\n",
      "const                 0.8171      0.015     53.392      0.000       0.787       0.847\n",
      "predictorAbstract    -0.6545      0.026    -24.764      0.000      -0.706      -0.603\n",
      "=====================================================================================\n",
      "Optimization terminated successfully.\n",
      "         Current function value: 0.638386\n",
      "         Iterations 5\n",
      "                           Logit Regression Results                           \n",
      "==============================================================================\n",
      "Dep. Variable:        outcomeAbstract   No. Observations:                28764\n",
      "Model:                          Logit   Df Residuals:                    28762\n",
      "Method:                           MLE   Df Model:                            1\n",
      "Date:                Wed, 13 Dec 2023   Pseudo R-squ.:                 0.01635\n",
      "Time:                        01:38:16   Log-Likelihood:                -18363.\n",
      "converged:                       True   LL-Null:                       -18668.\n",
      "Covariance Type:            nonrobust   LLR p-value:                9.598e-135\n",
      "=====================================================================================\n",
      "                        coef    std err          z      P>|z|      [0.025      0.975]\n",
      "-------------------------------------------------------------------------------------\n",
      "const                -0.1627      0.022     -7.551      0.000      -0.205      -0.120\n",
      "predictorConcrete    -0.6545      0.026    -24.764      0.000      -0.706      -0.603\n",
      "=====================================================================================\n"
     ]
    }
   ],
   "source": [
    "# Testing For Directionality of Relationship Between Concreteness Categorization Within Colexified Pairs Using a Logistic Regression Model\n",
    "# Null Hypothesis: The odds of the presence of a concrete variable in a colexified pair is not affected by the presence of an abstract concept\n",
    "\n",
    "# Preparing the data: I need 2 pairs of variable-outcome relationships to do this test\n",
    "    # Create a binary predictor column based on the 'concreteness' column\n",
    "\n",
    "mega['predictorAbstract'] = (mega['concreteness'].str[0] <= 400).astype(int)\n",
    "mega['outcomeConcrete'] = (mega['concreteness'].str[1] > 400).astype(int)\n",
    "\n",
    "# Define predictors (the first concept being abstract) and target variable (the second concept being concrete)\n",
    "X = sm.add_constant(mega[['predictorAbstract']])\n",
    "y = mega['outcomeConcrete']\n",
    "\n",
    "# Fit the logistic regression model\n",
    "model = sm.Logit(y, X)\n",
    "result = model.fit()\n",
    "\n",
    "print(result.summary())\n",
    "\n",
    "# Doing the same steps from above for logistic regression model but with concrete - abstract pairs\n",
    "mega['predictorConcrete'] = (mega['concreteness'].str[0] > 400).astype(int)\n",
    "mega['outcomeAbstract'] = (mega['concreteness'].str[1] <= 400).astype(int)\n",
    "\n",
    "# Define predictors (the first concept being concrete) and target variable (the second concept being abstract)\n",
    "X = sm.add_constant(mega[['predictorConcrete']])\n",
    "y = mega['outcomeAbstract']\n",
    "\n",
    "# Fit the logistic regression model\n",
    "model = sm.Logit(y, X)\n",
    "result = model.fit()\n",
    "\n",
    "print(result.summary())\n",
    "\n",
    "\n",
    "# Null Hypothesis Rejected"
   ]
  }
 ],
 "metadata": {
  "kernelspec": {
   "display_name": "Python 3 (ipykernel)",
   "language": "python",
   "name": "python3"
  },
  "language_info": {
   "codemirror_mode": {
    "name": "ipython",
    "version": 3
   },
   "file_extension": ".py",
   "mimetype": "text/x-python",
   "name": "python",
   "nbconvert_exporter": "python",
   "pygments_lexer": "ipython3",
   "version": "3.11.4"
  }
 },
 "nbformat": 4,
 "nbformat_minor": 2
}
